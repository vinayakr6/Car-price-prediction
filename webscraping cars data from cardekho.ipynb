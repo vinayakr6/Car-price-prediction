{
 "cells": [
  {
   "cell_type": "code",
   "execution_count": 1,
   "id": "055ab550",
   "metadata": {},
   "outputs": [],
   "source": [
    "# Importing all the necessary libraries required to Scrape data using Selenium\n",
    "import selenium\n",
    "import pandas as pd\n",
    "from selenium import webdriver\n",
    "from bs4 import BeautifulSoup\n",
    "import requests\n",
    "import warnings\n",
    "warnings.filterwarnings('ignore')\n",
    "from selenium.common.exceptions import StaleElementReferenceException, NoSuchElementException,NoSuchAttributeException \n",
    "from selenium.webdriver.common.by import By\n",
    "from selenium.webdriver.support.ui import WebDriverWait\n",
    "from selenium.webdriver.support import expected_conditions as EC\n",
    "import time\n",
    "import re"
   ]
  },
  {
   "cell_type": "markdown",
   "id": "8a557146",
   "metadata": {},
   "source": [
    "<b> Data to scrape for predicting the car prices </b>\n",
    "<ol>\n",
    "    <li> \n",
    "        Brand\n",
    "    </li>\n",
    "     <li> \n",
    "        Model\n",
    "    </li>\n",
    "    <li>\n",
    "        variant\n",
    "    </li>\n",
    "    <li>\n",
    "        manufacturing year\n",
    "    </li>\n",
    "    <li>\n",
    "        driven kilometers\n",
    "    </li>\n",
    "    <li>\n",
    "        fuel\n",
    "    </li>\n",
    "    <li>\n",
    "        number of owners\n",
    "    </li>\n",
    "    <li>\n",
    "        location and\n",
    "    </li>\n",
    "    <li>\n",
    "        target variable: Price of the car\n",
    "    </li>\n",
    "</ol>"
   ]
  },
  {
   "cell_type": "markdown",
   "id": "61010f85",
   "metadata": {},
   "source": [
    "<h2> CAR DETAILS </h2>\n",
    "<h3> Website - Cardekho</h3>\n",
    "<a href=\"https://www.cardekho.com/\">Cardekho</a>"
   ]
  },
  {
   "cell_type": "code",
   "execution_count": 2,
   "id": "bf26985f",
   "metadata": {},
   "outputs": [],
   "source": [
    "driver1 = webdriver.Chrome(r'G:\\AI Professional\\Data Trained\\Internship Fliprobo Technologies\\Webscraping (Selenium)\\chromedriver.exe')"
   ]
  },
  {
   "cell_type": "code",
   "execution_count": 3,
   "id": "c270c3e5",
   "metadata": {},
   "outputs": [],
   "source": [
    "driver1.maximize_window()"
   ]
  },
  {
   "cell_type": "code",
   "execution_count": 4,
   "id": "1e8a345d",
   "metadata": {},
   "outputs": [],
   "source": [
    "url_cardekho = 'https://www.cardekho.com/'\n",
    "driver1.get(url_cardekho)"
   ]
  },
  {
   "cell_type": "code",
   "execution_count": 18,
   "id": "0820e2ba",
   "metadata": {},
   "outputs": [],
   "source": [
    "# used_car = driver1.find_element(By.XPATH, '//span[@class=\"used-cars-india\"]')\n",
    "# used_car.click()\n",
    "webdriver.ActionChains(driver1).move_to_element(driver1.find_element(By.XPATH, '//span[@class=\"used-cars-india\"]')).perform()"
   ]
  },
  {
   "cell_type": "code",
   "execution_count": 19,
   "id": "05034406",
   "metadata": {},
   "outputs": [],
   "source": [
    "# used_car1 = driver1.find_element(By.XPATH, '//*[@id=\"rf01\"]/header/div[2]/div/div/nav/ul/li[2]/ul/li[1]/a/span')\n",
    "# used_car1.click()\n",
    "webdriver.ActionChains(driver1).move_to_element(\n",
    "    driver1.find_element(By.XPATH, \n",
    "                         '//*[@id=\"rf01\"]/header/div[2]/div/div/nav/ul/li[2]/ul/li[1]/a/span')).perform()"
   ]
  },
  {
   "cell_type": "code",
   "execution_count": 20,
   "id": "c65df594",
   "metadata": {},
   "outputs": [],
   "source": [
    "# used_car2 = driver1.find_element(By.XPATH, '//*[@id=\"rf01\"]/header/div[2]/div/div/nav/ul/li[2]/ul/li[1]/ul/li[1]/a/span')\n",
    "# used_car2.click()\n",
    "webdriver.ActionChains(driver1).move_to_element(\n",
    "    driver1.find_element(By.XPATH, \n",
    "                         '//*[@id=\"rf01\"]/header/div[2]/div/div/nav/ul/li[2]/ul/li[1]/ul/li[1]/a/span')).perform()"
   ]
  },
  {
   "cell_type": "code",
   "execution_count": 21,
   "id": "4b535dbe",
   "metadata": {},
   "outputs": [],
   "source": [
    "cars1 = driver1.find_element(By.XPATH, '//*[@id=\"rf01\"]/header/div[2]/div/div/nav/ul/li[2]/ul/li[1]/ul/li[1]/a')\n",
    "cars1.click()"
   ]
  },
  {
   "cell_type": "code",
   "execution_count": 22,
   "id": "87cdc2ec",
   "metadata": {},
   "outputs": [],
   "source": [
    "for s in range(50):\n",
    "    driver1.execute_script('window.scrollBy(0,3000)')"
   ]
  },
  {
   "cell_type": "code",
   "execution_count": 23,
   "id": "6098e136",
   "metadata": {},
   "outputs": [],
   "source": [
    "url_cardekho_cars = []"
   ]
  },
  {
   "cell_type": "code",
   "execution_count": 24,
   "id": "34001fe6",
   "metadata": {},
   "outputs": [],
   "source": [
    "# URL of each Car\n",
    "url1 = driver1.find_elements(By.XPATH,'//h3[@class=\"title\"]/a')\n",
    "for u1 in url1:\n",
    "    u2 = u1.get_attribute('href')\n",
    "    url_cardekho_cars.append(u2)"
   ]
  },
  {
   "cell_type": "code",
   "execution_count": 25,
   "id": "04109b15",
   "metadata": {},
   "outputs": [
    {
     "data": {
      "text/plain": [
       "913"
      ]
     },
     "execution_count": 25,
     "metadata": {},
     "output_type": "execute_result"
    }
   ],
   "source": [
    "len(url_cardekho_cars)"
   ]
  },
  {
   "cell_type": "code",
   "execution_count": 27,
   "id": "1c1a1d12",
   "metadata": {},
   "outputs": [],
   "source": [
    "webdriver.ActionChains(driver1).move_to_element(driver1.find_element(By.XPATH, '//span[@class=\"used-cars-india\"]')).perform()\n",
    "\n",
    "webdriver.ActionChains(driver1).move_to_element(\n",
    "    driver1.find_element(By.XPATH, \n",
    "                         '//*[@id=\"rf01\"]/header/div[2]/div/div/nav/ul/li[2]/ul/li[1]/a/span')).perform()\n",
    "\n",
    "webdriver.ActionChains(driver1).move_to_element(\n",
    "    driver1.find_element(By.XPATH, \n",
    "                         '//*[@id=\"rf01\"]/header/div[2]/div/div/nav/ul/li[2]/ul/li[1]/ul/li[1]/a/span')).perform()\n",
    "\n",
    "cars2 = driver1.find_element(By.XPATH, '//*[@id=\"rf01\"]/header/div[2]/div/div/nav/ul/li[2]/ul/li[1]/ul/li[2]/a')\n",
    "cars2.click()"
   ]
  },
  {
   "cell_type": "code",
   "execution_count": 28,
   "id": "9c4bc8f7",
   "metadata": {},
   "outputs": [],
   "source": [
    "for s in range(50):\n",
    "    driver1.execute_script('window.scrollBy(0,3000)')"
   ]
  },
  {
   "cell_type": "code",
   "execution_count": 29,
   "id": "1f3ced70",
   "metadata": {},
   "outputs": [],
   "source": [
    "# URL of each Car\n",
    "url1 = driver1.find_elements(By.XPATH,'//h3[@class=\"title\"]/a')\n",
    "for u1 in url1:\n",
    "    u2 = u1.get_attribute('href')\n",
    "    url_cardekho_cars.append(u2)"
   ]
  },
  {
   "cell_type": "code",
   "execution_count": 30,
   "id": "ab77b15d",
   "metadata": {},
   "outputs": [
    {
     "data": {
      "text/plain": [
       "1693"
      ]
     },
     "execution_count": 30,
     "metadata": {},
     "output_type": "execute_result"
    }
   ],
   "source": [
    "len(url_cardekho_cars)"
   ]
  },
  {
   "cell_type": "code",
   "execution_count": 31,
   "id": "385022be",
   "metadata": {},
   "outputs": [],
   "source": [
    "webdriver.ActionChains(driver1).move_to_element(driver1.find_element(By.XPATH, '//span[@class=\"used-cars-india\"]')).perform()\n",
    "\n",
    "webdriver.ActionChains(driver1).move_to_element(\n",
    "    driver1.find_element(By.XPATH, \n",
    "                         '//*[@id=\"rf01\"]/header/div[2]/div/div/nav/ul/li[2]/ul/li[1]/a/span')).perform()\n",
    "\n",
    "webdriver.ActionChains(driver1).move_to_element(\n",
    "    driver1.find_element(By.XPATH, \n",
    "                         '//*[@id=\"rf01\"]/header/div[2]/div/div/nav/ul/li[2]/ul/li[1]/ul/li[1]/a/span')).perform()\n",
    "\n",
    "cars2 = driver1.find_element(By.XPATH, '//*[@id=\"rf01\"]/header/div[2]/div/div/nav/ul/li[2]/ul/li[1]/ul/li[3]/a')\n",
    "cars2.click()"
   ]
  },
  {
   "cell_type": "code",
   "execution_count": 32,
   "id": "d3738ad2",
   "metadata": {},
   "outputs": [],
   "source": [
    "for s in range(50):\n",
    "    driver1.execute_script('window.scrollBy(0,3000)')"
   ]
  },
  {
   "cell_type": "code",
   "execution_count": 33,
   "id": "228939ba",
   "metadata": {},
   "outputs": [],
   "source": [
    "# URL of each Car\n",
    "url1 = driver1.find_elements(By.XPATH,'//h3[@class=\"title\"]/a')\n",
    "for u1 in url1:\n",
    "    u2 = u1.get_attribute('href')\n",
    "    url_cardekho_cars.append(u2)"
   ]
  },
  {
   "cell_type": "code",
   "execution_count": 34,
   "id": "a36eb962",
   "metadata": {},
   "outputs": [
    {
     "data": {
      "text/plain": [
       "2413"
      ]
     },
     "execution_count": 34,
     "metadata": {},
     "output_type": "execute_result"
    }
   ],
   "source": [
    "len(url_cardekho_cars)"
   ]
  },
  {
   "cell_type": "code",
   "execution_count": 35,
   "id": "7e94d480",
   "metadata": {},
   "outputs": [],
   "source": [
    "webdriver.ActionChains(driver1).move_to_element(driver1.find_element(By.XPATH, '//span[@class=\"used-cars-india\"]')).perform()\n",
    "\n",
    "webdriver.ActionChains(driver1).move_to_element(\n",
    "    driver1.find_element(By.XPATH, \n",
    "                         '//*[@id=\"rf01\"]/header/div[2]/div/div/nav/ul/li[2]/ul/li[1]/a/span')).perform()\n",
    "\n",
    "webdriver.ActionChains(driver1).move_to_element(\n",
    "    driver1.find_element(By.XPATH, \n",
    "                         '//*[@id=\"rf01\"]/header/div[2]/div/div/nav/ul/li[2]/ul/li[1]/ul/li[1]/a/span')).perform()\n",
    "\n",
    "cars2 = driver1.find_element(By.XPATH, '//*[@id=\"rf01\"]/header/div[2]/div/div/nav/ul/li[2]/ul/li[1]/ul/li[3]/a')\n",
    "cars2.click()"
   ]
  },
  {
   "cell_type": "code",
   "execution_count": 36,
   "id": "e7141a4c",
   "metadata": {},
   "outputs": [],
   "source": [
    "for s in range(50):\n",
    "    driver1.execute_script('window.scrollBy(0,3000)')"
   ]
  },
  {
   "cell_type": "code",
   "execution_count": 37,
   "id": "37e26267",
   "metadata": {},
   "outputs": [],
   "source": [
    "# URL of each Car\n",
    "url1 = driver1.find_elements(By.XPATH,'//h3[@class=\"title\"]/a')\n",
    "for u1 in url1:\n",
    "    u2 = u1.get_attribute('href')\n",
    "    url_cardekho_cars.append(u2)"
   ]
  },
  {
   "cell_type": "code",
   "execution_count": 38,
   "id": "fe947b42",
   "metadata": {},
   "outputs": [
    {
     "data": {
      "text/plain": [
       "2893"
      ]
     },
     "execution_count": 38,
     "metadata": {},
     "output_type": "execute_result"
    }
   ],
   "source": [
    "len(url_cardekho_cars)"
   ]
  },
  {
   "cell_type": "code",
   "execution_count": 39,
   "id": "6c48bc2c",
   "metadata": {},
   "outputs": [],
   "source": [
    "cardekho_url_df = pd.DataFrame(url_cardekho_cars, columns = [\"URL_CARDEKHO\"])\n",
    "cardekho_url_df\n",
    "\n",
    "cardekho_url_df.to_csv(\"cardekho_url_cars.csv\")\n",
    "\n",
    "url_df = pd.read_csv(\"cardekho_url_cars.csv\")\n",
    "url_df\n",
    "\n",
    "url_df['URL_CARDEKHO']\n",
    "\n",
    "len(url_df['URL_CARDEKHO'])\n",
    "\n",
    "url = url_df['URL_CARDEKHO'].to_list()"
   ]
  },
  {
   "cell_type": "code",
   "execution_count": 4,
   "id": "054fbea7",
   "metadata": {},
   "outputs": [],
   "source": [
    "url_df = pd.read_csv(\"cardekho_url_cars.csv\")\n",
    "url_df\n",
    "\n",
    "url_df['URL_CARDEKHO']\n",
    "\n",
    "len(url_df['URL_CARDEKHO'])\n",
    "\n",
    "url = url_df['URL_CARDEKHO'].to_list()"
   ]
  },
  {
   "cell_type": "code",
   "execution_count": 41,
   "id": "abd6f603",
   "metadata": {},
   "outputs": [],
   "source": [
    "url_each_car = url[0]\n",
    "driver1.get(url_each_car)"
   ]
  },
  {
   "cell_type": "code",
   "execution_count": 44,
   "id": "5b8b5147",
   "metadata": {
    "scrolled": true
   },
   "outputs": [
    {
     "data": {
      "text/plain": [
       "('2021', ['Renault', 'Duster'], ['RXZ', 'Turbo', 'CVT'])"
      ]
     },
     "execution_count": 44,
     "metadata": {},
     "output_type": "execute_result"
    }
   ],
   "source": [
    "name = driver1.find_element(By.XPATH, '//div[@class=\"vehicleName\"]')\n",
    "name.text.split()[0],name.text.split()[1:3], name.text.split()[3:]"
   ]
  },
  {
   "cell_type": "code",
   "execution_count": 49,
   "id": "9c53b284",
   "metadata": {},
   "outputs": [
    {
     "data": {
      "text/plain": [
       "('Petrol', '13,248 Kms', 'First Owner', 'Automatic')"
      ]
     },
     "execution_count": 49,
     "metadata": {},
     "output_type": "execute_result"
    }
   ],
   "source": [
    "fkot = driver1.find_elements(By.XPATH, '//span[@class=\"value-text \"]')\n",
    "b = []\n",
    "for i in fkot:\n",
    "    a1 = i.text\n",
    "    b.append(a1)\n",
    "b[2],b[4],b[6],b[8]"
   ]
  },
  {
   "cell_type": "code",
   "execution_count": 54,
   "id": "03ff007f",
   "metadata": {},
   "outputs": [
    {
     "data": {
      "text/plain": [
       "'Ahmedabad'"
      ]
     },
     "execution_count": 54,
     "metadata": {},
     "output_type": "execute_result"
    }
   ],
   "source": [
    "loc = driver1.find_element(By.XPATH, '//span[@class=\"value-text truncate-value hover posR\"]')\n",
    "loc.text.split()[0].replace(',', '')"
   ]
  },
  {
   "cell_type": "code",
   "execution_count": 58,
   "id": "83989f32",
   "metadata": {},
   "outputs": [
    {
     "data": {
      "text/plain": [
       "'12.83 Lakh'"
      ]
     },
     "execution_count": 58,
     "metadata": {},
     "output_type": "execute_result"
    }
   ],
   "source": [
    "pr = driver1.find_element(By.XPATH, '//div[@class=\"vehiclePrice\"]/span')\n",
    "pr.text.replace('₹ ', '')"
   ]
  },
  {
   "cell_type": "code",
   "execution_count": 5,
   "id": "9679766b",
   "metadata": {},
   "outputs": [
    {
     "name": "stdout",
     "output_type": "stream",
     "text": [
      "['2021', '2015', '2016', '2017', '2017', '2015', '2015', '2014', '2016', '2018', '2016', '2016', '2017', '2021', '2014', '2021', '2019', '2018', '2020', '2019', '2018', '2021', '2020', '2018', '2017', '2017', '2020', '2018', '2017', '2016', '2018', '2016', '2017', '2016', '2019', '2017', '2019', '2014', '2016', '2014', '2015', '2018', '2017', '2019', '2015', '2015', '2019', '2019', '2016', '2017', '2018', '2014', '2017', '2021', '2015', '2018', '2014', '2020', '2014', '2018', '2016', '2021', '2017', '2017', '2014', '2015', '2015', '2014', '2015', '2008', '2012', '2020', '2019', '2021', '2018', '2021', '2021', '2019', '2021', '2021', '2020', '2022', '2020', '2017', '2021', '2014', '2021', '2014', '2021', '2015', '2018', '2021', '2010', '2009', '2019', '2013', '2018', '2012', '2017', '2020', '2020', '2017', '2021', '2012', '2013', '2011', '2018', '2009', '2014', '2011', '2020', '2012', '2013', '2019', '2019', '2012', '2015', '2020', '2015', '2017', '2014', '2020', '2018', '2016', '2018', '2012', '2014', '2015', '2021', '2004', '2017', '2011', '2015', '2019', '2014', '2018', '2021', '2013', '2016', '2010', '2008', '2019', '2016', '2008', '2013', '2019', '2013', '2019', '2021', '2015', '2014', '2019', '2021', '2015', '2021', '2010', '2015', '2018', '2016', '2018', '2015', '2020', '2008', '2017', '2015', '2016', '2019', '2021', '2012', '2015', '2014', '2014', '2013', '2016', '2020', '2013', '2007', '2016', '2015', '2022', '2022', '2020', '2013', '2009', '2016', '2021', '2016', '2012', '2015', '2021', '2021', '2011', '2018', '2014', '2017', '2018', '2017', '2018', '2011', '2009', '2012', '2019', '2020', '2014', '2016', '2016', '2019', '2015', '2014', '2016', '2017', '2016', '2017', '2018', '2013', '2014', '2018', '2020', '2020', '2019', '2018', '2017', '2014', '2009', '2020', '2013', '2011', '2015', '2011', '2017', '2012', '2017', '2016', '2016', '2016', '2017', '2014', '2013', '2015', '2014', '2019', '2014', '2017', '2014', '2019', '2017', '2018', '2018', '2017', '2016', '2015', '2018', '2019', '2019', '2017', '2014', '2016', '2018', '2019', '2014', '2014', '2013', '2018', '2019', '2014', '2016', '2017', '2020', '2020', '2014', '2012', '2021', '2015', '2014', '2017', '2017', '2021', '2008', '2018', '2016', '2017', '2017', '2012', '2013', '2014', '2016', '2011', '2019', '2014', '2017', '2018', '2016', '2015', '2020', '2017', '2018', '2016', '2014', '2018', '2010', '2010', '2017', '2011', '2015', '2013', '2013', '2020', '2012', '2014', '2007', '2015', '2016', '2016', '2010', '2022', '2020', '2022', '2019', '2015', '2017', '2020', '2016', '2015', '2022', '2011', '2017', '2013', '2014', '2011', '2013', '2016', '2016', '2009', '2017', '2017', '2020', '2019', '2014', '2019', '2017', '2013', '2015', '2014', '2016', '2015', '2018', '2017', '2012', '2020', '2016', '2015', '2019', '2015', '2017', '2011', '2016', '2020', '2012', '2021', '2018', '2015', '2019', '2018', '2019', '2011', '2014', '2022', '2013', '2018', '2018', '2008', '2015', '2012', '2016', '2009', '2011', '2015', '2021', '2019', '2019', '2014', '2015', '2014', '2021', '2007', '2015', '2019', '2016', '2022', '2012', '2016', '2011', '2020', '2019', '2019', '2021', '2013', '2019', '2015', '2018', '2017', '2012', '2012', '2016', '2014', '2019', '2016', '2020', '2020', '2018', '2012', '2013', '2014', '2012', '2022', '2018', '2010', '2013', '2015', '2007', '2012', '2015', '2019', '2017', '2019', '2016', '2010', '2013', '2018', '2019', '2020', '2019', '2017', '2016', '2015', '2018', '2005', '2018', '2019', '2018', '2017', '2016', '2012', '2016', '2021', '2017', '2015', '2015', '2016', '2014', '2019', '2013', '2017', '2014', '2012', '2020', '2016', '2015', '2021', '2019', '2022', '2014', '2014', '2017', '2011', '2004', '2017', '2016', '2013', '2016', '2020', '2016', '2017', '2010', '2008', '2010', '2016', '2005', '2013', '2015', '2017', '2021', '2015', '2014', '2012', '2021', '2018', '2021', '2018', '2020', '2020', '2017', '2018', '2011', '2015', '2015', '2015', '2013', '2021']\n",
      "['Renault Duster', 'Honda Amaze', 'Maruti Ciaz', 'Jeep Compass', 'Hyundai Verna', 'Honda City', 'Mahindra XUV500', 'Honda City', 'Toyota Camry', 'Honda Jazz', 'Volkswagen Polo', 'Honda Jazz', 'Honda City', 'Renault KWID', 'BMW 5', 'Mahindra Thar', 'Maruti Ciaz', 'Mercedes-Benz S-Class', 'Mini Cooper', 'Mercedes-Benz E-Class', 'Renault KWID', 'Honda WR-V', 'Honda City', 'Renault Duster', 'Renault Duster', 'Maruti Baleno', 'Honda City', 'Jeep Compass', 'Mahindra XUV500', 'Hyundai Grand', 'Maruti Swift', 'Hyundai Grand', 'Hyundai i20', 'Honda Jazz', 'Jeep Compass', 'Maruti Ciaz', 'Kia Seltos', 'Maruti Swift', 'Maruti Alto', 'Hyundai EON', 'Nissan Micra', 'Hyundai Verna', 'Renault KWID', 'Hyundai Grand', 'Volkswagen Vento', 'Maruti Alto', 'Renault KWID', 'Jeep Compass', 'Renault KWID', 'Hyundai EON', 'Hyundai Grand', 'Maruti Alto', 'Jeep Compass', 'Hyundai Tucson', 'Hyundai Verna', 'Maruti Alto', 'Maruti Wagon', 'Mahindra XUV300', 'Hyundai EON', 'Maruti Swift', 'Hyundai Grand', 'Nissan Magnite', 'Ford Aspire', 'Honda City', 'Hyundai Verna', 'Ford Ecosport', 'Hyundai Xcent', 'Nissan Sunny', 'Hyundai Creta', 'Maruti Swift', 'Toyota Fortuner', 'Kia Seltos', 'Kia Seltos', 'MG Hector', 'Skoda Superb', 'Skoda Superb', 'Skoda Superb', 'BMW X1', 'BMW 2', 'MG Hector', 'Mercedes-Benz C-Class', 'Mahindra XUV700', 'Hyundai Creta', 'Hyundai i20', 'Hyundai Alcazar', 'Hyundai i10', 'Ford Endeavour', 'Renault Duster', 'Hyundai Venue', 'Renault Fluence', 'Honda Jazz', 'Mahindra Thar', 'Honda City', 'Honda City', 'Hyundai Grand', 'Hyundai Verna', 'Mahindra XUV500', 'Jaguar XJ', 'Maruti Ciaz', 'Hyundai Venue', 'Toyota Fortuner', 'Maruti Vitara', 'Kia Seltos', 'BMW 5', 'BMW 5', 'Hyundai i20', 'Renault Duster', 'Hyundai Santro', 'BMW 7', 'Honda City', 'Hyundai Creta', 'Maruti Swift', 'Honda CR-V', 'BMW X5', 'Volkswagen Vento', 'Hyundai Accent', 'Honda Amaze', 'Hyundai Creta', 'Volkswagen Polo', 'Honda City', 'Hyundai Grand', 'Maruti Baleno', 'Tata Tiago', 'Hyundai Grand', 'Maruti Ignis', 'Hyundai Santro', 'Hyundai Verna', 'Hyundai Xcent', 'Maruti Baleno', 'Hyundai Santro', 'Toyota Etios', 'Maruti Alto', 'Maruti Wagon', 'Tata Nexon', 'Maruti Alto', 'Maruti Swift', 'Tata Harrier', 'Volkswagen Vento', 'Maruti Ciaz', 'Honda City', 'Hyundai Accent', 'Hyundai Santro', 'Maruti Baleno', 'Hyundai Santro', 'Chevrolet Enjoy', 'Hyundai i20', 'Maruti Wagon', 'Ford Endeavour', 'Honda City', 'Hyundai Xcent', 'Maruti Wagon', 'Maruti Wagon', 'Maruti Wagon', 'Honda City', 'Maruti Swift', 'Hyundai i20', 'Maruti Alto', 'Honda WR-V', 'Maruti Eeco', 'Mercedes-Benz GLA', 'Maruti Alto', 'Maruti Alto', 'Maruti Omni', 'Hyundai Creta', 'Maruti Swift', 'Maruti Ciaz', 'Hyundai Xcent', 'Hyundai Venue', 'Maruti Ertiga', 'Hyundai EON', 'Hyundai EON', 'Honda Amaze', 'Maruti Wagon', 'Volkswagen Polo', 'Kia Seltos', 'Chevrolet Cruze', 'Maruti Swift', 'Maruti Ertiga', 'Hyundai Creta', 'Tata Harrier', 'Maruti Baleno', 'Maruti Swift', 'Renault Duster', 'Maruti Wagon', 'BMW 3', 'Maruti Swift', 'Ford Figo', 'Maruti Swift', 'Renault KWID', 'Hyundai Verna', 'Kia Seltos', 'Maruti SX4', 'Hyundai i20', 'Maruti Swift', 'Maruti Swift', 'Hyundai Grand', 'Maruti Ignis', 'Hyundai Grand', 'Maruti Wagon', 'Honda Civic', 'Mahindra XUV500', 'Force Gurkha', 'Tata Nexon', 'Maruti Alto', 'Hyundai Grand', 'Maruti Ciaz', 'Maruti Eeco', 'Honda Brio', 'Hyundai i20', 'Honda Brio', 'Maruti Baleno', 'Honda Brio', 'Mahindra TUV', 'Renault KWID', 'Mercedes-Benz C-Class', 'Maruti Ritz', 'Maruti Baleno', 'MG Hector', 'Hyundai Grand', 'Hyundai Grand', 'Hyundai i20', 'Hyundai Grand', 'Honda Amaze', 'Hyundai i10', 'Maruti Ciaz', 'Maruti Eeco', 'Hyundai Santro', 'Honda City', 'Ford Figo', 'Maruti Ertiga', 'Hyundai Accent', 'Honda WR-V', 'BMW 5', 'Hyundai Creta', 'Hyundai EON', 'Mahindra XUV500', 'Honda City', 'Honda Amaze', 'Honda City', 'Honda Amaze', 'Skoda Octavia', 'Toyota Innova', 'Ford Endeavour', 'Maruti Swift', 'Maruti Eeco', 'Hyundai i20', 'Nissan Micra', 'Toyota Fortuner', 'Honda Jazz', 'Jaguar XF', 'Mahindra XUV500', 'Hyundai Verna', 'BMW X1', 'Honda City', 'Honda Jazz', 'Datsun GO', 'Mahindra XUV500', 'Honda Amaze', 'Maruti Baleno', 'Hyundai Grand', 'Honda City', 'Hyundai EON', 'Maruti Swift', 'Volkswagen Vento', 'Honda City', 'Maruti Vitara', 'Honda WR-V', 'MG Hector', 'Toyota Innova', 'Maruti Swift', 'Mahindra XUV500', 'Tata New', 'Toyota Innova', 'Toyota Etios', 'Maruti Alto', 'Honda Amaze', 'Ford Ecosport', 'Skoda New', 'Mercedes-Benz CLA', 'Maruti Baleno', 'Tata Tiago', 'Ford Ecosport', 'Honda City', 'Renault Scala', 'Hyundai Verna', 'Volkswagen Vento', 'Maruti SX4', 'Maruti Swift', 'Chevrolet Spark', 'Jeep Compass', 'Honda Jazz', 'Hyundai i20', 'Hyundai i20', 'Tata Harrier', 'Toyota Fortuner', 'Maruti Ertiga', 'Honda City', 'Audi Q3', 'Hyundai Verna', 'Maruti A-Star', 'Toyota Innova', 'Tata Tiago', 'Ford Figo', 'Toyota Corolla', 'Renault Duster', 'Audi Q3', 'Kia Seltos', 'Honda City', 'Hyundai Elantra', 'Maruti Zen', 'Maruti Baleno', 'Hyundai Creta', 'Mercedes-Benz GLE', 'Tata Indigo', 'Tata Tigor', 'Toyota Fortuner', 'Kia Seltos', 'Maruti Wagon', 'Maruti Ciaz', 'Honda Jazz', 'Honda City', 'Hyundai Creta', 'Hyundai Creta', 'Hyundai Creta', 'Mercedes-Benz C-Class', 'Honda WR-V', 'Hyundai Verna', 'Volvo S60', 'Hyundai i10', 'Maruti Swift', 'Maruti Swift', 'Mahindra XUV500', 'Hyundai Santro', 'Datsun RediGO', 'Maruti Baleno', 'Hyundai i20', 'Maruti Ertiga', 'Hyundai i20', 'Maruti Swift', 'Maruti SX4', 'Toyota Fortuner', 'Mahindra Xylo', 'Hyundai Xcent', 'Mahindra TUV', 'Hyundai Grand', 'Maruti Celerio', 'Hyundai Grand', 'Audi Q3', 'Mahindra Thar', 'Mahindra Scorpio', 'Toyota Fortuner', 'Hyundai Creta', 'Maruti Alto', 'Maruti Swift', 'Chevrolet Spark', 'BMW X1', 'Maruti XL6', 'Maruti Swift', 'BMW 2', 'Tata Tigor', 'Mahindra XUV500', 'Hyundai Grand', 'Maruti Baleno', 'MG Hector', 'Mercedes-Benz S-Class', 'Nissan Terrano', 'Mahindra XUV300', 'Maruti Eeco', 'Tata Nexon', 'Maruti Alto', 'Honda City', 'Chevrolet Sail', 'Hyundai Elantra', 'Tata Tiago', 'Maruti Swift', 'Hyundai Accent', 'Honda Brio', 'MG Hector', 'Toyota Fortuner', 'Hyundai Creta', 'Audi A6', 'Honda City', 'Fiat Punto', 'Toyota Fortuner', 'Hyundai Santro', 'Volkswagen Jetta', 'Mahindra XUV500', 'Mahindra Scorpio', 'Maruti Alto', 'Hyundai i10', 'Mahindra KUV', 'Tata Indigo', 'Skoda Rapid', 'Honda Jazz', 'Honda City', 'Honda Amaze', 'Hyundai Verna', 'Renault KWID', 'Land Rover', 'Jeep Compass', 'Hyundai Grand', 'Skoda Fabia', 'Maruti Wagon', 'Mahindra KUV', 'Tata Aria', 'Hyundai i20', 'Hyundai Grand', 'Honda City', 'Hyundai Creta', 'Renault KWID', 'Honda City', 'Mercedes-Benz C-Class', 'Volkswagen Polo', 'Honda City', 'Skoda Kushaq', 'Mercedes-Benz C-Class', 'Tata Indica', 'Fiat Punto', 'Toyota Fortuner', 'Honda Civic', 'Mahindra XUV500', 'Honda City', 'Tata Tigor', 'Maruti Ciaz', 'Maruti Ciaz', 'Honda Brio', 'Hyundai i10', 'Maruti Alto', 'Maruti Wagon', 'Maruti SX4', 'Maruti Ertiga', 'Maruti Alto', 'Hyundai Grand', 'Renault KWID', 'Maruti Swift', 'Maruti Wagon', 'Honda City', 'Maruti Swift', 'Toyota Innova', 'Toyota Innova', 'Honda BR-V', 'Maruti Wagon', 'Maruti Ertiga', 'Hyundai i20', 'Hyundai Santro', 'Hyundai Grand', 'Volkswagen Beetle', 'Honda Jazz', 'Ford Aspire', 'Maruti Swift', 'Maruti XL6', 'Hyundai i10', 'Honda BR-V', 'Mahindra XUV500', 'Nissan Micra', 'Maruti Ciaz', 'Honda Amaze', 'Renault KWID', 'Mahindra Thar', 'Renault KWID', 'Maruti XL6', 'Maruti Alto', 'Ford Ecosport', 'Maruti Celerio', 'Hyundai Accent', 'Maruti Wagon', 'Honda WR-V', 'Honda City', 'Renault Duster', 'Maruti Ciaz', 'Hyundai Grand', 'Maruti Wagon', 'Honda WR-V', 'Maruti A-Star', 'Maruti Alto', 'Maruti Wagon', 'Hyundai Grand', 'Mahindra Scorpio', 'Hyundai i10', 'Audi Q3', 'Datsun RediGO', 'Nissan Kicks', 'Mahindra XUV500', 'Maruti Celerio', 'Honda Brio', 'Kia Sonet', 'Maruti Baleno', 'Hyundai Verna', 'Hyundai Creta', 'Hyundai Creta', 'Volkswagen Vento', 'Honda Amaze', 'Jeep Compass', 'Hyundai EON', 'Nissan Terrano', 'Honda Jazz', 'Volkswagen Jetta', 'Volkswagen Polo', 'Tata Tiago']\n",
      "['RXZ Turbo CVT', 'S i-Vtech', 'VXi Plus', '2.0 Longitude Option BSIV', '1.6 VTVT AT SX', 'i VTEC CVT SV', 'W8 FWD', 'i VTEC CVT SV', '2.5 G', 'VX CVT', '1.2 MPI Highline', 'V CVT', 'i-VTEC CVT ZX', 'RXL', 'Series 520d Prestige Plus', 'LX 4-Str Convert Top AT', 'Alpha Automatic BSIV', 'Maybach S560', 'Clubman Cooper S', 'Exclusive E 220d', 'RXL', 'VX Diesel', 'V MT', 'Petrol RXS CVT', 'Petrol RXS CVT', '1.2 Alpha', 'ZX CVT', '1.4 Limited', 'W6 2WD', 'i10 Sportz', 'Dzire VXI 1.2', 'i10 AT Asta', '1.4 Asta', '1.2 V AT i VTEC', '1.4 Limited Plus BSIV', '1.4 Delta', 'GTX Plus', 'Dzire VXI', '800 LXI', 'Magna Plus', 'XL Optional', 'VTVT 1.6 SX', 'RXT', 'i10 1.2 Kappa Magna BSIV', '1.5 TDI Highline AT', '800 LXI', 'RXL BSIV', '2.0 Limited Plus BSIV', 'RXL', 'Era Plus', 'i10 1.2 Kappa Magna BSIV', 'K10 LXI', '2.0 Longitude', 'GLS AT', '1.6 VTVT S Option', '800 LXI', 'R LXI BS IV', 'W6', 'Era Plus', 'Dzire VXI 1.2', 'i10 Magna', 'XV Premium', '1.2 Ti-VCT Trend', 'i DTec SV', '1.6 SX CRDi (O)', '1.5 Ti VCT MT Trend', '1.2 Kappa Base', 'Diesel XL', '1.6 VTVT SX Plus', 'VXi BSIV', '4x2 Manual', 'HTX G', 'HTX IVT', 'Sharp DCT', 'LK 1.8 TSI AT', 'Sportline', 'Laurin & klement', 'xDrive 20d xLine', 'Series 220i M Sport', 'Sharp Diesel MT', 'Progressive C 220d', 'AX7 Diesel AT Luxury Pack', 'SX Opt Turbo', '1.2 Magna Executive', 'Signature Diesel AT', 'Magna', 'Titanium Plus 4X2 AT', '110PS Diesel RxL', 'SX Plus Turbo DCT', 'E2 D', '1.5 S i DTEC', 'LX 4-Str Hard Top', '1.5 S MT', '1.5 S AT', 'i10 1.2 Kappa Sportz Option', '1.6 CRDi EX MT', 'W7 BSIV', '3.0L Portfolio LWB', 'ZDi Plus SHVS', 'SX Opt iMT', '2.8 2WD AT', 'Brezza LDi', 'HTX G', 'Series 525d Sedan', 'Series 520d Luxury Line', '1.4 Asta (AT)', '110PS Diesel RxZ AMT', 'Xing GLS', 'Series 730Ld', 'S', 'SX Diesel AT', 'Dzire VDI', '2.4 AT', 'xDrive 30d xLine', '1.2 TSI Highline AT', 'Executive', 'VX i-DTEC', 'EX', 'GT TSI', 'i-VTEC CVT ZX', 'i10 Magna', '1.2 Delta', '1.2 Revotron XZ', 'i10 CRDi Sportz', '1.2 Sigma BSIV', 'Xing GL Plus', 'SX CRDi AT', '1.1 CRDi Base', 'Delta', 'Xing XP', 'Liva 1.4 GD', 'LX', 'R VXI BS IV', 'KRAZ Plus AMT', 'K10 VXI AMT', 'VXI', 'XZA Plus Dark Edition AT 2020-2022', '1.5 TDI Highline BSIV', 'VXi Plus', '1.5 S MT', 'GLS', 'Sportz CNG BSIV', '1.2 Delta', 'Xing GLS', 'TCDi LS 8 Seater', 'Sportz Plus BSIV', 'R LXI BS IV', 'Titanium Plus 4X4', 'VX MT', '1.2 Kappa S Option', 'R VXI BS IV with ABS', 'R VXI 1.2', 'R VXI', 'i VTEC CVT VX', 'Dzire VXI', '1.2 Magna Opt', '800 LXI', 'i-VTEC S', '7 Seater Standard BSIV', 'Class 200 d Sport', 'K10 LXI', '800 LXI', '8 Seater BSII', '1.6 CRDi SX Option', 'LXI BSIV', 'VXi Plus', '1.2 VTVT SX', 'SX Plus Turbo DCT', 'ZDI', 'D Lite Plus', 'Era Plus', 'SX i-VTEC', 'R LXI CNG', '1.2 MPI Comfortline', 'HTX Plus D', 'LTZ', '1.3 VXi', 'SHVS VDI Limited Edition', '1.6 VTVT SX Plus Dual Tone', 'XZA Plus Kaziranga Edition AT', 'Alpha', 'Dzire VXI 1.2', '85PS Diesel RxL', 'R LXI Minor', 'Series 320d Luxury Line', 'VXI', '1.2P Trend MT', 'VDI', 'RXT', 'SX', 'HTE G', 'ZDI Leather', 'Petrol CVT Asta', 'Dzire VDI', 'Dzire VXI 1.2', 'i10 1.2 Kappa Magna BSIV', '1.2 Delta BSIV', 'i10 1.2 Kappa Sportz Option AT', 'R VXI BS IV', '1.8 V AT', 'W8 FWD', 'Xtreme', '1.2 Revotron XZ Plus', '800 LXI', 'i10 Sportz', 'RS ZXi Plus', 'CNG 5 Seater AC BSIV', 'S MT', 'Magna Optional 1.2', 'S MT', '1.2 Sigma', 'E MT', '300 T8', 'RXL', 'C 220 CDI BE COR', 'VDi', '1.3 Sigma', 'Plus Sharp DCT', 'i10 Nios Era', 'i10 1.2 Kappa Era', '1.2 Spotz', 'i10 Magna AT', 'VX AT i-Vtech', 'Magna 1.2', '1.4 Delta', 'CNG 5 Seater AC', 'Xing GL Plus', 'i DTEC VX', 'Diesel EXI', 'SHVS VDI', 'Executive', 'i-VTEC VX', 'Series 520d M Sport', '1.6 CRDi SX Option', 'Era Plus', 'AT W10 FWD', 'i DTEC SV', 'SX i-DTEC', 'i DTEC SV', 'S i-Vtech', '1.8 TSI AT L K', '2.5 GX (Diesel) 8 Seater BS IV', '3.2 Titanium AT 4X4', 'Dzire VXI', '5 STR With AC Plus HTR CNG', 'Sportz 1.4 CRDi', 'XL CVT', '2.8 2WD AT BSIV', '1.2 SV i VTEC', '2.2 Litre Luxury', 'W8 2WD', 'CRDi 1.6 AT SX Plus', 'sDrive 20d xLine', 'i-DTEC V', '1.2 E i VTEC', 'T BSIV', 'W10 2WD', 'V CVT Diesel BSIV', '1.2 Zeta', 'i10 Sportz', 'V AT', 'D Lite Plus', 'AMT VXI', '1.6 Highline BSIV', 'i DTEC V', 'Brezza ZDi', 'i-VTEC VX', 'Sharp AT BSIV', 'Crysta 2.4 G MT 8 STR', 'VXI', 'W6 2WD', 'Safari XZ Plus', '2.5 ZX Diesel 7 Seater', 'Liva GD', '800 LXI', 'S CVT Petrol BSIV', 'Sports Diesel', 'Laura Ambiente 1.9 PD', '200 CGI Sport', '1.2 Sigma', '1.05 Revotorq XT', '1.5 Petrol Titanium BSIV', 'V AT', 'Diesel RxL', '1.6 SX VTVT AT', '1.5 TDI Highline AT', 'Vxi BSIV', 'VXI', '1.0 LT', '2.0 Longitude', 'VX CVT', 'Sportz 1.2', 'Asta 1.2', 'XZ Plus', '2.8 2WD AT', 'CNG VXI', 'i DTec V', '35 TDI Quattro Premium Plus', 'VTVT 1.6 SX', 'Vxi', '2.5 G4 Diesel 8-seater', '1.2 Revotron XZ', 'Diesel Titanium', 'Altis G AT', '85PS Diesel RxL', '2.0 TDI Quattro Premium Plus', 'GTK', 'i VTEC S', 'CRDi SX', 'Estilo VXI BSIII', '1.2 Delta', '1.6 CRDi AT SX Plus', '250d', 'LX DiCOR', 'EV XZ Plus', '2.8 4WD AT', 'GTX Plus AT D', 'R LXI', 'VXi Plus', '1.2 V AT i VTEC', 'ZX CVT', '1.6 VTVT S', '1.6 CRDi AT SX Plus', 'S Diesel', 'C 200 BE Classic', 'i-VTEC VX', '1.6 EX VTVT', 'D4 KINETIC', 'Magna', 'Dzire VDI', 'VXI', 'W6 2WD', 'Xing GL', 'T Option', '1.3 Delta', 'Magna Plus', '1.5 ZDI', 'Sportz Option 1.4 CRDi', 'Dzire AMT VXI', 'S Cross Sigma DDiS 200 SH', '4x2 Manual', 'H8', '1.1 CRDi SX Option', '300 T6', 'i10 1.2 Kappa Asta', 'ZXI Optional AMT BSIV', 'i10 1.2 Kappa Sportz BSIV', '2.0 TDI Quattro Premium Plus', 'LX 4-Str Convert Top AT', 'S10 8 Seater', '2.5 4x2 AT TRD Sportivo', '1.6 SX Option Executive', '800 LXI', 'Dzire AMT ZXI Plus', '1.0 LT', 'sDrive 20d M Sport', 'Zeta', 'Dzire VXi', 'Series 220i M Sport', '1.2 Revotron XZ', 'W8 2WD', 'i10 1.2 Kappa Sportz BSIV', '1.2 Zeta', 'Sharp DCT', 'S 300', 'XV 110 PS', 'W8', 'CNG 5 Seater AC', 'KRAZ Diesel', 'K10 VXI AGS Optional', 'GXi', '1.2 LS ABS', 'CRDi SX', '1.05 Revotorq XT', 'Dzire ZDi', 'Executive', 'S MT', 'Plus Sharp Diesel MT', '2.8 2WD MT BSIV', '1.6 SX Automatic Diesel', '2.0 TDI', 'i DTEC V', '1.2 Active', '4X2 Diesel', 'Xing XL', '2.0L TDI Highline', 'W7 BSIV', 'S10 7 Seater', '800 VXI', 'Sportz AT', '100 mFALCON D75 K8', 'eGLX BS IV', '1.0 TSI Style AT', 'V CVT', 'VX MT', 'V Petrol BSIV', '1.6 SX', '1.0 RXL', 'Discovery Sport TD4 HSE', '1.4 Limited', 'i10 1.2 Kappa Sportz Option AT', '1.2 MPI Active Plus', 'R LXI BS IV', '100 mFALCON G80 K8', 'Pure LX 4x2', 'Sportz Plus BSIV', 'i10 Sportz', 'i-VTEC CVT VX', 'SX Opt Diesel', '1.0 AMT RXT', 'S', '220 CDI MT', 'GT TSI', 'V AT', '1.0 TSI Style 6 Airbags AT', 'C 250 CDI Avantgarde', 'Aura 1.3 Quadrajet', '1.3 Dynamic', '2.5 4x2 MT TRD Sportivo', '1.8 (E) MT', 'W8 2WD', 'i VTEC CVT VX', 'XZ', 'RS ZXi Plus', 'Alpha Automatic BSIV', 'S MT', 'Era', '800 LXI', 'R LXI CNG', 'S Cross Delta DDiS 200 SH', 'CNG VXI BSIV', '800 VXI', 'i10 CRDi Sportz', 'RXL', 'Dzire VXI 1.2 BS IV', 'R VXI BS IV', '1.5 EXI', 'VDI', 'Crysta 2.8 GX AT 8S BSIV', 'Crysta 2.8 ZX AT BSIV', 'i-VTEC V CVT', 'R LXI BS IV', 'LDI Option', 'Magna 1.2', 'Sportz BSIV', 'i10 1.2 Kappa Magna BSIV', '1.4 TSI', 'VX Diesel', '1.2 Ti-VCT Trend', 'ZDi', 'Alpha', 'Magna 1.1 iTech SE', 'i-VTEC S MT', 'W6 2WD', 'Diesel XV Premium', 'Delta', 'S i-Vtech', 'RXT', 'LX 4-Str Hard Top AT', '1.0 RXT Optional AT 2016-2019', 'Zeta', '800 LXI', '1.0 Ecoboost Titanium Optional', 'ZXI', 'Executive', 'R LX BSII', 'i-VTEC VX', 'i VTEC CVT VX', '85PS Diesel RxE', 'VDi Plus SHVS', 'i10 1.2 Kappa Magna BSIV', 'R VXI BS IV', 'i-VTEC S', 'Vxi', 'LXi BSIII', 'R LXI', 'i10 Sportz', 'LX', 'Magna', '2.0 TDI', 'T Option', '1.5 XV', 'W6 2WD', 'VXI', 'S MT', 'HTX Turbo iMT', '1.2 Zeta', 'SX IVT Opt', '1.6 SX', 'SX', '1.0 TSI Highline Plus', 'VX Petrol BSIV', '1.4 Longitude Plus AT', 'Era', 'XL Plus 85 PS', '1.2 VX i VTEC', '2.0L TDI Highline AT', 'Diesel Comfortline 1.2L', 'NRG XZ']\n",
      "['Petrol', 'Petrol', 'Petrol', 'Diesel', 'Petrol', 'Petrol', 'Diesel', 'Petrol', 'Petrol', 'Petrol', 'Petrol', 'Petrol', 'Petrol', 'Petrol', 'Diesel', 'Petrol', 'Petrol', 'Petrol', 'Petrol', 'Diesel', 'Petrol', 'Diesel', 'Petrol', 'Petrol', 'Petrol', 'Petrol', 'Petrol', 'Petrol', 'Diesel', 'Petrol', 'Petrol', 'Petrol', 'Diesel', 'Petrol', 'Petrol', 'Petrol', 'Petrol', 'Petrol', 'Petrol', 'Petrol', 'Petrol', 'Petrol', 'Petrol', 'Petrol', 'Diesel', 'Petrol', 'Petrol', 'Diesel', 'Petrol', 'Petrol', 'Petrol', 'Petrol', 'Diesel', 'Petrol', 'Petrol', 'Petrol', 'Petrol', 'Petrol', 'Petrol', 'Petrol', 'Petrol', 'Petrol', 'Petrol', 'Diesel', 'Diesel', 'Petrol', 'Petrol', 'Diesel', 'Petrol', 'Petrol', '7 Seats', 'Petrol', 'Petrol', 'Petrol', 'Petrol', 'Petrol', 'Petrol', 'Diesel', 'Petrol', 'Diesel', 'Diesel', 'Diesel', 'Petrol', 'Petrol', 'Diesel', 'Petrol', 'Diesel', 'Diesel', 'Petrol', 'Diesel', 'Diesel', 'Petrol', 'Petrol', 'Petrol', 'Petrol', '5 Seats', 'Diesel', 'Diesel', '5 Seats', 'Petrol', 'Diesel', '5 Seats', 'Petrol', 'Diesel', 'Diesel', 'Petrol', 'Diesel', 'Petrol', 'Diesel', 'Petrol', 'Diesel', 'Diesel', 'Petrol', 'Diesel', 'Petrol', 'Petrol', 'Diesel', 'Petrol', 'Petrol', 'Petrol', 'Petrol', 'Petrol', 'Petrol', 'Diesel', 'Petrol', 'Petrol', 'Diesel', 'Diesel', 'Petrol', '5 Seats', '5 Seats', 'Petrol', 'Petrol', 'Petrol', 'Petrol', 'Petrol', 'Diesel', 'Diesel', 'Petrol', 'Petrol', 'Petrol', 'CNG', 'Petrol', 'Petrol', '8 Seats', 'Petrol', 'Petrol', 'Diesel', 'Petrol', 'Petrol', '5 Seats', 'Petrol', 'Petrol', 'Petrol', 'Petrol', 'Petrol', 'Petrol', 'Petrol', 'Petrol', 'Diesel', '5 Seats', '5 Seats', '8 Seats', 'Diesel', 'Petrol', 'Petrol', 'Petrol', 'Petrol', 'Diesel', 'Petrol', 'Petrol', 'Petrol', 'CNG', 'Petrol', 'Diesel', 'Diesel', '5 Seats', 'Diesel', 'Petrol', 'Diesel', 'Petrol', 'Petrol', 'Diesel', 'Petrol', 'Diesel', 'Petrol', 'Petrol', 'Diesel', 'Petrol', 'Petrol', '5 Seats', '5 Seats', 'Petrol', '5 Seats', 'Petrol', 'Petrol', 'Petrol', 'Petrol', 'Petrol', 'Petrol', 'Diesel', '6 Seats', 'Petrol', 'Petrol', 'Petrol', 'Petrol', 'CNG', 'Petrol', 'Petrol', 'Petrol', 'Petrol', 'Petrol', 'Diesel', 'Petrol', 'Diesel', 'Diesel', 'Diesel', 'Petrol', 'Petrol', 'Petrol', 'Petrol', 'Petrol', 'Petrol', 'Petrol', 'Petrol', 'CNG', 'Petrol', 'Diesel', 'Diesel', 'Diesel', 'Petrol', 'Petrol', 'Diesel', 'Diesel', 'Petrol', 'Diesel', 'Diesel', 'Diesel', 'Diesel', 'Petrol', 'Petrol', 'Diesel', 'Diesel', '5 Seats', 'CNG', 'Diesel', 'Petrol', 'Diesel', 'Petrol', 'Diesel', 'Diesel', 'Diesel', 'Diesel', 'Diesel', 'Petrol', 'Petrol', 'Diesel', 'Diesel', 'Petrol', 'Petrol', 'Petrol', '5 Seats', 'Petrol', 'Petrol', 'Diesel', 'Diesel', 'Petrol', 'Petrol', 'Diesel', 'Petrol', 'Diesel', '7 Seats', 'Diesel', '5 Seats', 'Petrol', 'Petrol', 'Diesel', 'Diesel', 'Petrol', 'Petrol', 'Diesel', 'Petrol', 'Petrol', 'Diesel', 'Petrol', 'Diesel', 'Petrol', 'Petrol', 'Petrol', 'Diesel', 'Petrol', 'Petrol', 'Petrol', 'Diesel', 'Diesel', 'CNG', 'Diesel', 'Diesel', 'Petrol', 'Petrol', 'Diesel', 'Petrol', 'Diesel', 'Petrol', 'Diesel', 'Diesel', 'Petrol', 'Petrol', 'Diesel', 'Petrol', 'Petrol', 'Diesel', 'Diesel', '5 Seats', 'Electric', 'Diesel', 'Diesel', 'Petrol', 'Petrol', 'Petrol', 'Petrol', 'Petrol', 'Diesel', 'Diesel', 'Petrol', 'Petrol', '5 Seats', 'Diesel', '5 Seats', 'Diesel', 'Petrol', 'Diesel', 'Petrol', 'Petrol', 'Diesel', 'Petrol', 'Diesel', 'Diesel', 'Petrol', 'Diesel', 'Diesel', 'Diesel', 'Diesel', 'Diesel', 'Petrol', 'Petrol', 'Petrol', 'Diesel', 'Petrol', 'Diesel', 'Diesel', 'Petrol', 'Petrol', 'Petrol', 'Petrol', 'Diesel', 'Petrol', 'Petrol', 'Petrol', 'Petrol', 'Diesel', 'Petrol', 'Petrol', 'Petrol', 'Petrol', '5 Seats', 'Petrol', 'CNG', 'Diesel', 'Petrol', 'Petrol', 'Petrol', 'Diesel', 'Diesel', 'Diesel', 'Petrol', 'Petrol', 'Diesel', 'Diesel', 'Diesel', 'Diesel', 'Diesel', 'Petrol', 'Diesel', 'Petrol', 'Diesel', 'Diesel', 'Diesel', 'Petrol', 'Petrol', 'Diesel', 'Petrol', 'Petrol', 'Petrol', 'Petrol', 'Petrol', 'Diesel', 'Petrol', 'Diesel', 'Petrol', 'Petrol', 'Petrol', 'Petrol', 'Petrol', 'Diesel', 'Petrol', 'Petrol', 'Petrol', 'Diesel', 'Petrol', 'Petrol', 'Diesel', 'Petrol', 'Petrol', 'Petrol', 'Diesel', 'Diesel', 'Diesel', 'Diesel', '5 Seats', 'Diesel', 'Petrol', 'Petrol', 'Petrol', 'Petrol', 'Petrol', 'Petrol', 'Petrol', 'CNG', 'Diesel', 'CNG', 'Petrol', 'Diesel', 'Petrol', 'Petrol', 'Petrol', '5 Seats', 'Diesel', 'Diesel', 'Diesel', 'Petrol', 'Petrol', 'Diesel', 'Petrol', 'Petrol', 'Petrol', 'Petrol', 'Diesel', 'Petrol', '5 Seats', 'Petrol', 'Petrol', 'Petrol', 'Diesel', 'Diesel', 'Petrol', 'Petrol', 'Petrol', 'Petrol', 'Petrol', 'Petrol', 'Petrol', '5 Seats', 'Petrol', 'Petrol', '5 Seats', 'Petrol', 'Petrol', 'Diesel', 'Diesel', 'Petrol', 'Petrol', 'Petrol', 'Petrol', 'Petrol', 'Petrol', 'Petrol', '9 Seats', 'Petrol', 'Diesel', 'Petrol', 'Petrol', 'Diesel', 'Petrol', 'Petrol', 'Petrol', 'Petrol', 'Petrol', 'Petrol', 'Petrol', 'Petrol', 'Petrol', 'Petrol', 'Petrol', 'Diesel', 'Petrol', 'Diesel', 'Diesel', 'Petrol']\n",
      "['13,248', '46,623', '36,534', '86,226', '60,238', '21,429', '90,281', '1,10,284', '60,343', '26,696', '69,414', '39,821', '92,246', '4,491', '55,000', '7,000', '56,000', '8,000', '15,000', '35,000', '34,972', '14,470', '38,906', '33,139', '31,750', '38,203', '21,261', '78,151', '52,514', '35,424', '50,215', '59,313', '85,672', '15,385', '32,378', '34,971', '18,557', '56,568', '30,983', '57,581', '35,894', '66,375', '48,872', '23,837', '71,607', '41,329', '17,346', '15,414', '32,681', '51,085', '21,239', '62,361', '58,463', '11,945', '79,329', '21,186', '90,244', '10,381', '42,593', '51,324', '34,438', '5,717', '30,000', '72,000', '32,783', '21,178', '1,62,100', '96,128', '54,000', '62,000', 'Second Owner', '19,001', '24,501', '14,811', '18,201', '26,000', '31,111', '56,901', '8,001', '24,111', '8,001', '3,700', '25,421', '59,700', '27,331', '34,256', '65,835', '78,000', '44,000', '53,000', '51,000', '14,000', '62,000', '40,000', '39,000', 'Second Owner', '53,000', '15,000', 'Second Owner', '14,450', '37,001', 'Fourth Owner', '13,000', '40,000', '16,000', '65,000', '31,000', '51,000', '34,000', '89,000', '44,001', '93,000', '85,000', '49,000', '33,000', '55,000', '60,000', '58,000', '66,000', '65,000', '25,000', '24,000', '63,553', '85,590', '78,159', '92,605', '56,285', '70,771', '21,408', 'N/A', 'First Owner', '62,923', '45,927', '27,525', '73,154', '40,171', '9,000', '1,01,000', '76,100', '92,202', '1,30,834', '56,247', '68,479', '45,616', 'First Owner', '14,154', '52,385', '99,578', '8,786', '1,52,240', 'Second Owner', '45,136', '13,410', '62,326', '10,238', '1,31,110', '70,550', '13,022', '47,812', '42,039', 'Second Owner', 'First Owner', 'Second Owner', '93,409', '53,123', '63,628', '11,859', '5,872', '79,427', '32,462', '1,23,856', '82,850', '99,326', '1,39,546', '58,605', '54,000', 'Third Owner', '56,000', '55,000', '16,000', '4,700', '51,995', '69,365', '1,06,017', '48,431', '29,968', '71,228', '95,522', '19,745', '24,321', 'First Owner', 'Fifth Owner', '16,000', 'First Owner', '21,469', '54,741', '66,920', '59,529', '1,00,723', '75,000', '72,000', 'Second Owner', '79,000', '56,000', '45,983', '33,000', '56,000', '45,000', '23,000', '54,000', '56,000', '39,000', '59,000', '47,000', '58,000', '58,000', '35,000', '14,000', '24,500', '45,000', '48,000', '35,000', '45,000', '72,000', '22,000', '65,000', '1,13,257', '41,000', '1,94,288', '84,663', '56,000', '55,000', '62,631', '84,000', '41,000', '85,000', '65,000', '65,000', '86,146', '38,000', '53,016', '75,000', '71,900', 'Fourth Owner', '51,000', '43,000', '26,000', '92,000', '30,000', '70,000', '57,000', '74,000', '30,000', '30,000', '37,000', '59,416', '16,312', '39,277', '44,439', '78,381', '70,000', 'Second Owner', '39,000', '40,000', '91,000', '57,000', '70,000', '19,905', '31,314', '75,394', '78,000', '1956 cc', '86,000', 'Second Owner', '33,894', '50,354', '13,986', '1,60,177', '37,000', '71,000', '98,000', '37,000', '65,000', '94,002', '49,882', '58,001', '75,002', '64,001', '73,552', '67,002', '29,005', '43,002', '67,002', '53,002', '1,21,001', '82,005', '63,555', '84,555', '36,000', '70,389', '78,000', '65,506', '1,17,525', '1,15,682', '1,82,323', '78,000', '31,272', '70,000', '72,000', '1,40,260', '59,830', '68,000', '1,50,646', 'Fourth Owner', '9,297', '79,746', '32,446', '30,491', '77,876', '31,000', '41,169', '41,266', '65,440', '56,000', '68,986', '41,000', 'Second Owner', '43,000', 'First Owner', '2,15,206', '72,456', '1,78,994', '58,570', '47,318', '51,959', '25,001', '18,000', '65,000', '41,000', '69,000', '88,000', '55,000', '56,000', '1,27,000', '50,521', '86,600', '12,500', '69,000', '15,000', '62,000', '72,000', '43,000', '48,000', '57,000', '32,000', '80,000', '9,000', '63,000', '18,001', '14,568', '1,08,623', '14,207', '31,984', '72,338', '71,670', 'Second Owner', '1,300', '58,000', '22,791', '18,823', '1,20,268', '35,425', '62,119', '85,409', '1,07,717', '1,34,643', '43,930', '18,200', '47,000', '60,000', '74,000', '64,000', '78,000', '71,000', '1,42,930', '40,625', '95,398', '1,11,922', '2,513', '60,604', '1,04,145', '70,170', '41,338', '24,000', '24,000', '24,000', '62,000', '9,000', '80,001', '56,000', '32,000', '60,000', '29,515', '42,387', '66,033', '21,353', '76,713', '25,001', '29,000', '52,000', '48,000', '53,000', '47,000', '85,000', '16,000', '21,000', '1,31,705', '85,578', '2,74,942', 'Third Owner', '68,000', '48,900', '67,000', '13,000', '60,000', '42,000', '38,452', '45,566', '91,478', '62,570', '49,941', '4,637', '64,807', '51,146', '36,000', '47,096', 'Second Owner', '70,217', '74,781', '1,18,773', '54,665', '51,645', '65,000', '48,000', '19,000', '41,000', '30,301', '60,000', '35,000', 'Third Owner', '36,000', '52,000', '28,850', '57,000', '58,000', '51,872', '42,034', '75,672', '12,916', '24,136', '9,714', '87,306', 'Second Owner', '20,985', '69,000', 'Fourth Owner', '51,000', '44,050', '79,618', '64,971', '68,806', '34,452', '45,760', '29,446', '1,02,330', '78,000', '50,000', 'Fourth Owner', '60,000', '70,000', '27,619', '32,012', '93,587', '75,140', '60,208', '20,255', '44,000', '27,000', '36,000', '17,200', '23,800', '36,300', '24,000', '81,000', '68,000', '43,000', '92,103', '2,20,010', '14,637']\n",
      "['Automatic', 'Manual', 'Manual', 'Manual', 'Automatic', 'Automatic', 'Manual', 'Automatic', 'Automatic', 'Automatic', 'Manual', 'Automatic', 'Automatic', 'Manual', 'Automatic', 'Automatic', 'Automatic', 'Automatic', 'Automatic', 'Automatic', 'Manual', 'Manual', 'Manual', 'Automatic', 'Automatic', 'Manual', 'Automatic', 'Automatic', 'Manual', 'Manual', 'Manual', 'Automatic', 'Manual', 'Automatic', 'Automatic', 'Manual', 'Manual', 'Manual', 'Manual', 'Manual', 'Manual', 'Manual', 'Manual', 'Manual', 'Automatic', 'Manual', 'Manual', 'Manual', 'Manual', 'Manual', 'Manual', 'Manual', 'Manual', 'Automatic', 'Manual', 'Manual', 'Manual', 'Manual', 'Manual', 'Manual', 'Manual', 'Manual', 'Manual', 'Manual', 'Manual', 'Manual', 'Manual', 'Manual', 'Manual', 'Manual', 'Power Steering', 'Manual', 'Automatic', 'Automatic', 'Automatic', 'Automatic', 'Automatic', 'Automatic', 'Automatic', 'Manual', 'Automatic', 'Automatic', 'Automatic', 'Manual', 'Automatic', 'Manual', 'Automatic', 'Manual', 'Automatic', 'Manual', 'Manual', 'Manual', 'Manual', 'Automatic', 'Manual', 'Power Steering', 'Manual', 'Automatic', 'Power Steering', 'Manual', 'Automatic', 'Power Steering', 'Manual', 'Automatic', 'Automatic', 'Automatic', 'Automatic', 'Manual', 'Automatic', 'Manual', 'Automatic', 'Manual', 'Automatic', 'Automatic', 'Automatic', 'Manual', 'Manual', 'Manual', 'Automatic', 'Automatic', 'Manual', 'Manual', 'Manual', 'Manual', 'Manual', 'Manual', 'Automatic', 'Manual', 'Manual', '2004', 'Power Steering', 'Manual', 'Manual', 'Automatic', 'Automatic', 'Manual', 'Automatic', 'Manual', 'Manual', 'Manual', 'Manual', 'Manual', 'Manual', 'Manual', 'Power Steering', 'Manual', 'Manual', 'Automatic', 'Manual', 'Manual', 'Power Steering', 'Manual', 'Manual', 'Automatic', 'Manual', 'Manual', 'Manual', 'Manual', 'Manual', 'Automatic', 'Power Steering', 'Power Steering', '19.7 kmpl', 'Manual', 'Manual', 'Manual', 'Manual', 'Automatic', 'Manual', 'Manual', 'Manual', 'Manual', 'Manual', 'Manual', 'Manual', 'Manual', 'Power Steering', 'Manual', 'Manual', 'Automatic', 'Manual', 'Manual', 'Manual', 'Manual', 'Automatic', 'Manual', 'Manual', 'Manual', 'Manual', 'Manual', 'Power Steering', 'Power Steering', 'Automatic', 'Power Steering', 'Manual', 'Manual', 'Manual', 'Automatic', 'Manual', 'Automatic', 'Manual', 'Power Steering', 'Manual', 'Manual', 'Manual', 'Manual', 'Manual', 'Manual', 'Manual', 'Manual', 'Manual', 'Manual', 'Manual', 'Manual', 'Automatic', 'Manual', 'Manual', 'Automatic', 'Manual', 'Manual', 'Manual', 'Automatic', 'Automatic', 'Manual', 'Manual', 'Manual', 'Manual', 'Manual', 'Manual', 'Manual', 'Manual', 'Manual', 'Automatic', 'Manual', 'Manual', 'Automatic', 'Manual', 'Manual', 'Manual', 'Manual', 'Automatic', 'Manual', 'Automatic', 'Power Steering', 'Manual', 'Manual', 'Automatic', 'Automatic', 'Manual', 'Automatic', 'Manual', 'Automatic', 'Automatic', 'Manual', 'Manual', 'Manual', 'Manual', 'Automatic', 'Manual', 'Manual', 'Automatic', 'Power Steering', 'Automatic', 'Manual', 'Manual', 'Manual', 'Manual', 'Automatic', 'Manual', 'Manual', 'Manual', 'Power Windows Front', 'Manual', 'Power Steering', 'Manual', 'Automatic', 'Manual', 'Manual', 'Automatic', 'Manual', 'Manual', 'Manual', 'Automatic', 'Manual', 'Automatic', 'Automatic', 'Manual', 'Manual', 'Manual', 'Manual', 'Automatic', 'Manual', 'Manual', 'Manual', 'Automatic', 'Manual', 'Manual', 'Automatic', 'Manual', 'Manual', 'Manual', 'Manual', 'Manual', 'Automatic', 'Manual', 'Automatic', 'Manual', 'Manual', 'Manual', 'Manual', 'Manual', 'Automatic', 'Automatic', 'Power Steering', '2022', 'Automatic', 'Automatic', 'Manual', 'Manual', 'Automatic', 'Automatic', 'Manual', 'Automatic', 'Manual', 'Automatic', 'Manual', 'Power Steering', 'Automatic', 'Power Steering', 'Manual', 'Manual', 'Manual', 'Manual', 'Manual', 'Manual', 'Manual', 'Manual', 'Manual', 'Automatic', 'Manual', 'Manual', 'Manual', 'Manual', 'Manual', 'Manual', 'Automatic', 'Manual', 'Automatic', 'Automatic', 'Manual', 'Automatic', 'Manual', 'Manual', 'Automatic', 'Manual', 'Automatic', 'Manual', 'Manual', 'Automatic', 'Manual', 'Manual', 'Manual', 'Manual', 'Automatic', 'Automatic', 'Power Steering', 'Manual', 'Manual', 'Manual', 'Automatic', 'Manual', 'Manual', 'Manual', 'Manual', 'Manual', 'Manual', 'Manual', 'Manual', 'Manual', 'Automatic', 'Automatic', 'Manual', 'Manual', 'Manual', 'Manual', 'Manual', 'Manual', 'Manual', 'Manual', 'Automatic', 'Manual', 'Manual', 'Automatic', 'Automatic', 'Manual', 'Manual', 'Manual', 'Manual', 'Automatic', 'Automatic', 'Automatic', 'Manual', 'Manual', 'Manual', 'Manual', 'Manual', 'Manual', 'Automatic', 'Manual', 'Automatic', 'Manual', 'Manual', 'Automatic', 'Automatic', 'Automatic', 'Automatic', 'Manual', 'Manual', 'Manual', 'Power Steering', 'Manual', 'Automatic', 'Manual', 'Manual', 'Automatic', 'Manual', 'Manual', 'Manual', 'Manual', 'Manual', 'Manual', 'Manual', 'Manual', 'Manual', 'Manual', 'Manual', '13 kmpl', 'Manual', 'Automatic', 'Automatic', 'Automatic', 'Manual', 'Manual', 'Manual', 'Manual', 'Manual', 'Automatic', 'Manual', 'Manual', 'Power Steering', 'Manual', 'Manual', 'Manual', 'Manual', 'Manual', 'Manual', 'Manual', 'Manual', 'Automatic', 'Automatic', 'Manual', 'Manual', 'Power Steering', 'Manual', 'Manual', 'Power Steering', 'Manual', 'Automatic', 'Manual', 'Manual', 'Manual', 'Manual', 'Manual', 'Manual', 'Manual', 'Manual', 'Manual', 'Power Steering', 'Manual', 'Automatic', 'Manual', 'Manual', 'Manual', 'Manual', 'Manual', 'Manual', 'Manual', 'Automatic', 'Manual', 'Manual', 'Manual', 'Manual', 'Automatic', 'Manual', 'Manual', 'Manual', 'Automatic', 'Manual', 'Manual']\n",
      "['First Owner', 'Second Owner', 'First Owner', 'First Owner', 'First Owner', 'First Owner', 'First Owner', 'First Owner', 'First Owner', 'First Owner', 'First Owner', 'First Owner', 'First Owner', 'First Owner', 'First Owner', 'First Owner', 'First Owner', 'First Owner', 'Second Owner', 'First Owner', 'First Owner', 'First Owner', 'First Owner', 'Second Owner', 'First Owner', 'First Owner', 'First Owner', 'First Owner', 'First Owner', 'First Owner', 'Second Owner', 'Second Owner', 'First Owner', 'First Owner', 'First Owner', 'Second Owner', 'First Owner', 'First Owner', 'First Owner', 'Second Owner', 'Second Owner', 'First Owner', 'First Owner', 'First Owner', 'Second Owner', 'First Owner', 'First Owner', 'First Owner', 'First Owner', 'First Owner', 'First Owner', 'First Owner', 'First Owner', 'First Owner', 'Second Owner', 'First Owner', 'First Owner', 'First Owner', 'First Owner', 'First Owner', 'First Owner', 'First Owner', 'First Owner', 'First Owner', 'Second Owner', 'First Owner', 'First Owner', 'Third Owner', 'First Owner', 'First Owner', 'Manual', 'First Owner', 'First Owner', 'First Owner', 'First Owner', 'First Owner', 'First Owner', 'First Owner', 'First Owner', 'First Owner', 'First Owner', 'First Owner', 'First Owner', 'First Owner', 'First Owner', 'First Owner', 'First Owner', 'First Owner', 'First Owner', 'First Owner', 'First Owner', 'First Owner', 'Second Owner', 'First Owner', 'First Owner', 'Manual', 'Second Owner', 'First Owner', 'Manual', 'First Owner', 'First Owner', 'Manual', 'First Owner', 'First Owner', 'First Owner', 'First Owner', 'First Owner', 'First Owner', 'First Owner', 'First Owner', 'First Owner', 'First Owner', 'First Owner', 'First Owner', 'First Owner', 'First Owner', 'First Owner', 'First Owner', 'First Owner', 'First Owner', 'First Owner', 'First Owner', 'First Owner', 'Second Owner', 'First Owner', 'First Owner', 'Second Owner', 'First Owner', 'First Owner', '1086 cc', 'Manual', 'Second Owner', 'First Owner', 'First Owner', 'Second Owner', 'First Owner', 'First Owner', 'First Owner', 'First Owner', 'First Owner', 'Fifth Owner', 'First Owner', 'Second Owner', 'Second Owner', 'Manual', 'First Owner', 'Second Owner', 'First Owner', 'First Owner', 'First Owner', 'Manual', 'First Owner', 'First Owner', 'First Owner', 'First Owner', 'Second Owner', 'Second Owner', 'First Owner', 'Second Owner', 'First Owner', 'Manual', 'Manual', 'Manual', 'First Owner', 'First Owner', 'First Owner', 'First Owner', 'First Owner', 'First Owner', 'First Owner', 'First Owner', 'First Owner', 'Second Owner', 'First Owner', 'Second Owner', 'First Owner', 'Manual', 'First Owner', 'First Owner', 'First Owner', 'First Owner', 'First Owner', 'Second Owner', 'Second Owner', 'Second Owner', 'First Owner', 'First Owner', 'Third Owner', 'First Owner', 'First Owner', 'Manual', 'Manual', 'First Owner', 'Manual', 'First Owner', 'First Owner', 'First Owner', 'First Owner', 'First Owner', 'Second Owner', 'Second Owner', 'Manual', 'First Owner', 'First Owner', 'First Owner', 'First Owner', 'First Owner', 'First Owner', 'First Owner', 'First Owner', 'First Owner', 'Second Owner', 'First Owner', 'First Owner', 'First Owner', 'First Owner', 'First Owner', 'First Owner', 'First Owner', 'First Owner', 'First Owner', 'First Owner', 'First Owner', 'Second Owner', 'First Owner', 'First Owner', 'Third Owner', 'First Owner', 'First Owner', 'First Owner', 'First Owner', 'First Owner', 'Second Owner', 'First Owner', 'First Owner', 'First Owner', 'First Owner', 'First Owner', 'First Owner', 'First Owner', 'First Owner', 'First Owner', 'Second Owner', 'Manual', 'First Owner', 'First Owner', 'First Owner', 'First Owner', 'First Owner', 'First Owner', 'First Owner', 'First Owner', 'First Owner', 'First Owner', 'First Owner', 'First Owner', 'First Owner', 'First Owner', 'First Owner', 'First Owner', 'First Owner', 'Manual', 'First Owner', 'First Owner', 'First Owner', 'First Owner', 'First Owner', 'First Owner', 'First Owner', 'First Owner', 'First Owner', '2021', 'First Owner', 'Manual', 'First Owner', 'First Owner', 'First Owner', 'First Owner', 'First Owner', 'First Owner', 'First Owner', 'First Owner', 'Second Owner', 'First Owner', 'First Owner', 'First Owner', 'Second Owner', 'First Owner', 'First Owner', 'First Owner', 'First Owner', 'First Owner', 'First Owner', 'First Owner', 'First Owner', 'First Owner', 'First Owner', 'First Owner', 'First Owner', 'First Owner', 'First Owner', 'First Owner', 'First Owner', 'First Owner', 'Second Owner', 'First Owner', 'First Owner', 'First Owner', 'First Owner', 'Second Owner', 'First Owner', 'First Owner', 'First Owner', 'Manual', 'First Owner', 'Second Owner', 'First Owner', 'First Owner', 'First Owner', 'First Owner', 'First Owner', 'First Owner', 'First Owner', 'First Owner', 'First Owner', 'First Owner', 'Manual', 'First Owner', 'Manual', 'Second Owner', 'First Owner', 'First Owner', 'First Owner', 'First Owner', 'First Owner', 'First Owner', 'First Owner', 'First Owner', 'First Owner', 'First Owner', 'Third Owner', 'First Owner', 'First Owner', 'First Owner', 'First Owner', 'First Owner', 'First Owner', 'First Owner', 'First Owner', 'First Owner', 'Second Owner', 'First Owner', 'First Owner', 'First Owner', 'First Owner', 'First Owner', 'First Owner', 'Second Owner', 'First Owner', 'First Owner', 'Second Owner', 'First Owner', 'First Owner', 'First Owner', 'Second Owner', 'Manual', 'First Owner', 'First Owner', 'First Owner', 'First Owner', 'First Owner', 'First Owner', 'Second Owner', 'First Owner', 'Second Owner', 'Second Owner', 'First Owner', 'First Owner', 'First Owner', 'First Owner', 'First Owner', 'First Owner', 'First Owner', 'First Owner', 'First Owner', 'First Owner', 'First Owner', 'First Owner', 'First Owner', 'Fourth Owner', 'First Owner', 'Second Owner', 'First Owner', 'First Owner', 'First Owner', 'First Owner', 'First Owner', 'First Owner', 'Second Owner', 'Second Owner', 'First Owner', 'First Owner', 'First Owner', 'Second Owner', 'Second Owner', 'First Owner', 'First Owner', 'Second Owner', 'First Owner', 'First Owner', 'First Owner', 'First Owner', 'First Owner', 'First Owner', 'First Owner', 'First Owner', 'Third Owner', 'First Owner', 'Second Owner', 'Manual', 'First Owner', 'First Owner', 'First Owner', 'First Owner', 'First Owner', 'First Owner', 'First Owner', 'Second Owner', 'First Owner', 'First Owner', 'First Owner', 'First Owner', 'First Owner', 'First Owner', 'First Owner', 'First Owner', 'Manual', 'First Owner', 'Second Owner', 'First Owner', 'First Owner', 'First Owner', 'Second Owner', 'First Owner', 'First Owner', 'First Owner', 'First Owner', 'First Owner', 'First Owner', 'Manual', 'First Owner', 'First Owner', 'First Owner', 'First Owner', 'Second Owner', 'First Owner', 'First Owner', 'First Owner', 'Second Owner', 'First Owner', 'First Owner', 'Second Owner', 'Manual', 'First Owner', 'First Owner', 'Manual', 'First Owner', 'Second Owner', 'First Owner', 'First Owner', 'First Owner', 'First Owner', 'First Owner', 'Second Owner', 'First Owner', 'Second Owner', 'First Owner', 'Manual', 'First Owner', 'First Owner', 'Second Owner', 'First Owner', 'First Owner', 'Second Owner', 'Fourth Owner', 'First Owner', 'First Owner', 'First Owner', 'First Owner', 'First Owner', 'First Owner', 'First Owner', 'First Owner', 'First Owner', 'First Owner', 'First Owner', 'Second Owner', 'First Owner', 'First Owner']\n",
      "[]\n",
      "['12.83 Lakh', '4.21 Lakh', '6.12 Lakh', '10.03 Lakh', '8.65 Lakh', '6.99 Lakh', '7.80 Lakh', '5.43 Lakh', '16.40 Lakh', '7.77 Lakh', '5.15 Lakh', '6.05 Lakh', '9.05 Lakh', '4.13 Lakh', '22.75 Lakh', '15.75 Lakh', '9.50 Lakh', '1.65 Crore', '39.50 Lakh', '53 Lakh', '3.26 Lakh', '11.60 Lakh', '10.03 Lakh', '7.24 Lakh', '7.53 Lakh', '6.43 Lakh', '12.99 Lakh', '11.90 Lakh', '9.50 Lakh', '4.91 Lakh', '5.94 Lakh', '5.63 Lakh', '6.67 Lakh', '6 Lakh', '16.78 Lakh', '6.73 Lakh', '15.53 Lakh', '4.34 Lakh', '2.98 Lakh', '2.38 Lakh', '3.21 Lakh', '8.60 Lakh', '3.11 Lakh', '5.60 Lakh', '5.11 Lakh', '2.45 Lakh', '3.70 Lakh', '15.88 Lakh', '2.60 Lakh', '2.93 Lakh', '5.41 Lakh', '2.23 Lakh', '12.43 Lakh', '22.78 Lakh', '5.88 Lakh', '3.23 Lakh', '3.12 Lakh', '8.62 Lakh', '2.48 Lakh', '6.12 Lakh', '4.43 Lakh', '7.44 Lakh', '4.50 Lakh', '6.90 Lakh', '5.29 Lakh', '5.17 Lakh', '2.70 Lakh', '2.89 Lakh', '8.90 Lakh', '2.25 Lakh', '11 Lakh', '14 Lakh', '15.25 Lakh', '17.75 Lakh', '25 Lakh', '31 Lakh', '34 Lakh', '31 Lakh', '42 Lakh', '17.50 Lakh', '43 Lakh', '25.71 Lakh', '17 Lakh', '6.50 Lakh', '19.50 Lakh', '3.85 Lakh', '34.75 Lakh', '5.51 Lakh', '11.25 Lakh', '3.85 Lakh', '6 Lakh', '14.25 Lakh', '3.75 Lakh', '4.25 Lakh', '5.75 Lakh', '4.50 Lakh', '9.50 Lakh', '36.50 Lakh', '6 Lakh', '10.25 Lakh', '36 Lakh', '5 Lakh', '14.25 Lakh', '17.50 Lakh', '19.50 Lakh', '3.90 Lakh', '10.50 Lakh', '1.40 Lakh', '45.50 Lakh', '4.25 Lakh', '17.25 Lakh', '4.25 Lakh', '13.51 Lakh', '83 Lakh', '10.25 Lakh', '3.25 Lakh', '5.21 Lakh', '11.70 Lakh', '6.25 Lakh', '10.25 Lakh', '4.35 Lakh', '6.71 Lakh', '4.33 Lakh', '3.66 Lakh', '4 Lakh', '1.95 Lakh', '5.55 Lakh', '3.17 Lakh', '6.34 Lakh', '1.20 Lakh', '5.75 Lakh', '1.19 Lakh', '3.18 Lakh', '6.45 Lakh', '2.69 Lakh', '4.95 Lakh', '22.50 Lakh', '3.50 Lakh', '5.88 Lakh', '3.26 Lakh', '1.03 Lakh', '4.88 Lakh', '4.47 Lakh', '1.33 Lakh', '1.85 Lakh', '6.68 Lakh', '2.37 Lakh', '25.39 Lakh', '12.12 Lakh', '3.51 Lakh', '3.30 Lakh', '4.58 Lakh', '5.14 Lakh', '7.11 Lakh', '7.02 Lakh', '1.90 Lakh', '1.99 Lakh', '6.72 Lakh', '2.97 Lakh', '22.90 Lakh', '2.50 Lakh', '3.40 Lakh', '48,000', '9.12 Lakh', '3.64 Lakh', '6.15 Lakh', '5.95 Lakh', '10.87 Lakh', '4.45 Lakh', '2.47 Lakh', '1.79 Lakh', '3.78 Lakh', '2.55 Lakh', '3.89 Lakh', '9.96 Lakh', '4.25 Lakh', '1.30 Lakh', '7.25 Lakh', '8.90 Lakh', '22.90 Lakh', '9.50 Lakh', '6.37 Lakh', '3.77 Lakh', '1.11 Lakh', '17.47 Lakh', '5.82 Lakh', '3.38 Lakh', '2.86 Lakh', '2.64 Lakh', '10.08 Lakh', '8.50 Lakh', '1.95 Lakh', '7.75 Lakh', '3.85 Lakh', '5.56 Lakh', '4.31 Lakh', '4.44 Lakh', '5.65 Lakh', '1.80 Lakh', '2.20 Lakh', '4.10 Lakh', '9.50 Lakh', '7.50 Lakh', '2.31 Lakh', '4.75 Lakh', '6.75 Lakh', '5.25 Lakh', '4 Lakh', '4.65 Lakh', '4.25 Lakh', '5 Lakh', '3.25 Lakh', '6.61 Lakh', '2.90 Lakh', '10.50 Lakh', '3.25 Lakh', '5.50 Lakh', '16.50 Lakh', '5.25 Lakh', '4.60 Lakh', '6.50 Lakh', '5.10 Lakh', '5 Lakh', '1.60 Lakh', '8.75 Lakh', '3.25 Lakh', '1.42 Lakh', '7.25 Lakh', '1.40 Lakh', '7.31 Lakh', '3 Lakh', '7.75 Lakh', '23.56 Lakh', '10.25 Lakh', '2.95 Lakh', '11.25 Lakh', '5.50 Lakh', '3.61 Lakh', '5.32 Lakh', '4.51 Lakh', '19.50 Lakh', '7.25 Lakh', '23.50 Lakh', '4.10 Lakh', '4.91 Lakh', '6.75 Lakh', '5.90 Lakh', '31 Lakh', '6 Lakh', '25 Lakh', '8.25 Lakh', '10 Lakh', '31.91 Lakh', '10 Lakh', '5.25 Lakh', '2.17 Lakh', '10.41 Lakh', '7.50 Lakh', '6.01 Lakh', '3.49 Lakh', '6.75 Lakh', '1.90 Lakh', '6.70 Lakh', '8.50 Lakh', '5.80 Lakh', '7.30 Lakh', '6.70 Lakh', '15.50 Lakh', '18.54 Lakh', '4.25 Lakh', '4.80 Lakh', '20.50 Lakh', '9.10 Lakh', '2.40 Lakh', '2.76 Lakh', '5.13 Lakh', '10.74 Lakh', '1.45 Lakh', '27 Lakh', '4.90 Lakh', '4.50 Lakh', '6.25 Lakh', '4.25 Lakh', '3.35 Lakh', '6.10 Lakh', '6.90 Lakh', '2.71 Lakh', '6.25 Lakh', '1.80 Lakh', '11.25 Lakh', '7.50 Lakh', '6.25 Lakh', '5.75 Lakh', '18.75 Lakh', '27.75 Lakh', '9.10 Lakh', '6.90 Lakh', '15.75 Lakh', '9.31 Lakh', '1.76 Lakh', '5.51 Lakh', '4.07 Lakh', '1.62 Lakh', '7.37 Lakh', '3.11 Lakh', '15.25 Lakh', '10.69 Lakh', '4.75 Lakh', '6.75 Lakh', '76,140', '4.40 Lakh', '9.91 Lakh', '28.92 Lakh', '1.60 Lakh', '12.25 Lakh', '35.50 Lakh', '18.75 Lakh', '4.95 Lakh', '6.15 Lakh', '7.11 Lakh', '12.75 Lakh', '8.75 Lakh', '10.15 Lakh', '14.75 Lakh', '9.20 Lakh', '7.50 Lakh', '3.90 Lakh', '17 Lakh', '2.45 Lakh', '3.71 Lakh', '4.40 Lakh', '6.25 Lakh', '1.52 Lakh', '2.19 Lakh', '5.66 Lakh', '7.25 Lakh', '11.90 Lakh', '5.40 Lakh', '6.95 Lakh', '6.80 Lakh', '10.10 Lakh', '5.75 Lakh', '4.90 Lakh', '6.25 Lakh', '4.65 Lakh', '4.90 Lakh', '5.40 Lakh', '12.50 Lakh', '13.90 Lakh', '11.75 Lakh', '15.75 Lakh', '12.90 Lakh', '2.70 Lakh', '7.75 Lakh', '1.71 Lakh', '19.25 Lakh', '10.90 Lakh', '4.25 Lakh', '42 Lakh', '5.01 Lakh', '6.31 Lakh', '5.35 Lakh', '5.86 Lakh', '15.41 Lakh', '14.88 Lakh', '4.50 Lakh', '10.70 Lakh', '3.51 Lakh', '7.35 Lakh', '3.73 Lakh', '1.66 Lakh', '2.97 Lakh', '5.32 Lakh', '3.50 Lakh', '2.55 Lakh', '1.49 Lakh', '3.68 Lakh', '19.75 Lakh', '31.90 Lakh', '13.50 Lakh', '16.90 Lakh', '6.60 Lakh', '3.40 Lakh', '35.75 Lakh', '60,840', '7.38 Lakh', '9.57 Lakh', '9.83 Lakh', '4.14 Lakh', '2.55 Lakh', '3.03 Lakh', '1.35 Lakh', '11.27 Lakh', '7.95 Lakh', '10.51 Lakh', '7.95 Lakh', '5 Lakh', '4.15 Lakh', '27.75 Lakh', '13 Lakh', '5.90 Lakh', '2.65 Lakh', '2.15 Lakh', '3.35 Lakh', '5.06 Lakh', '6.69 Lakh', '4.18 Lakh', '12.75 Lakh', '16.75 Lakh', '3.60 Lakh', '4.25 Lakh', '13.75 Lakh', '5.60 Lakh', '4.80 Lakh', '16.75 Lakh', '35 Lakh', '1.12 Lakh', '2.27 Lakh', '15.16 Lakh', '1.74 Lakh', '6.50 Lakh', '7.75 Lakh', '6.25 Lakh', '7.50 Lakh', '8.75 Lakh', '4 Lakh', '2 Lakh', '1.74 Lakh', '3.80 Lakh', '7.80 Lakh', '8.36 Lakh', '3.35 Lakh', '4.53 Lakh', '2.54 Lakh', '5.25 Lakh', '3.79 Lakh', '1.40 Lakh', '6.85 Lakh', '19.67 Lakh', '20 Lakh', '7.68 Lakh', '3.18 Lakh', '4.50 Lakh', '5.75 Lakh', '5.51 Lakh', '4.91 Lakh', '17.38 Lakh', '6.11 Lakh', '4.50 Lakh', '3.95 Lakh', '10.25 Lakh', '3.25 Lakh', '7.30 Lakh', '6.90 Lakh', '2.50 Lakh', '7.72 Lakh', '4.55 Lakh', '2.44 Lakh', '14.82 Lakh', '3.82 Lakh', '9.56 Lakh', '1.77 Lakh', '4.50 Lakh', '4.65 Lakh', '2.60 Lakh', '80,000', '7.50 Lakh', '7.51 Lakh', '3.78 Lakh', '5.74 Lakh', '4.31 Lakh', '3.39 Lakh', '6.54 Lakh', '1.76 Lakh', '71,614', '2.15 Lakh', '5.31 Lakh', '1.60 Lakh', '3.40 Lakh', '12 Lakh', '2.19 Lakh', '6.84 Lakh', '6.88 Lakh', '2.65 Lakh', '2.33 Lakh', '9.89 Lakh', '7.25 Lakh', '13.75 Lakh', '11 Lakh', '15 Lakh', '10.50 Lakh', '6 Lakh', '14.75 Lakh', '2.40 Lakh', '5.50 Lakh', '5.40 Lakh', '7.77 Lakh', '2.48 Lakh', '6.41 Lakh']\n"
     ]
    }
   ],
   "source": [
    "model = []\n",
    "Brand = []\n",
    "variant=[]\n",
    "fuel=[]\n",
    "driven_kilometers=[]\n",
    "transmission = []\n",
    "number_of_owners=[]\n",
    "location = []\n",
    "price = []\n",
    "\n",
    "for a in range(len(url[1000:1500])):\n",
    "    url_each_car = url[a]\n",
    "    driver1.get(url_each_car)\n",
    "    time.sleep(1)\n",
    "    try:\n",
    "        # Manufacturing Year of the car\n",
    "        name = driver1.find_element(By.XPATH, '//div[@class=\"vehicleName\"]')\n",
    "        a = name.text.split()\n",
    "        model.append(a[0])\n",
    "\n",
    "        # Brand Name of the car\n",
    "        a = name.text.split()\n",
    "        Brand.append(' '.join(a[1:3]))\n",
    "\n",
    "        # Varinant of the car\n",
    "        variant.append(' '.join(a[3:]))\n",
    "\n",
    "        fkot = driver1.find_elements(By.XPATH, '//span[@class=\"value-text \"]')\n",
    "        b = []\n",
    "        for i in fkot:\n",
    "            a1 = i.text\n",
    "            b.append(a1)\n",
    "\n",
    "        fuel.append(b[2])\n",
    "        driven_kilometers.append(b[4].replace(' Kms', ''))\n",
    "        transmission.append(b[8])\n",
    "        number_of_owners.append(b[6])\n",
    "        \n",
    "        # Location\n",
    "#         loc = driver1.find_element(By.XPATH, '//span[@class=\"value-text truncate-value hover posR\"]')\n",
    "#         location.append(loc.text.split()[0].replace(',', ''))\n",
    "\n",
    "        pr = driver1.find_element(By.XPATH, '//div[@class=\"vehiclePrice\"]/span')\n",
    "        price.append(pr.text.replace('₹ ', ''))\n",
    "    except NoSuchElementException:\n",
    "        continue\n",
    "    \n",
    "\n",
    "print(model) \n",
    "print(Brand) \n",
    "print(variant)\n",
    "print(fuel)\n",
    "print(driven_kilometers)\n",
    "print(transmission) \n",
    "print(number_of_owners)\n",
    "print(location) \n",
    "print(price) "
   ]
  },
  {
   "cell_type": "code",
   "execution_count": 6,
   "id": "814482f4",
   "metadata": {},
   "outputs": [
    {
     "name": "stdout",
     "output_type": "stream",
     "text": [
      "499\n",
      "499\n",
      "499\n",
      "499\n",
      "499\n",
      "499\n",
      "499\n",
      "0\n",
      "499\n"
     ]
    }
   ],
   "source": [
    "print(len(model)) \n",
    "print(len(Brand)) \n",
    "print(len(variant))\n",
    "print(len(fuel))\n",
    "print(len(driven_kilometers))\n",
    "print(len(transmission)) \n",
    "print(len(number_of_owners))\n",
    "print(len(location)) \n",
    "\n",
    "print(len(price))"
   ]
  },
  {
   "cell_type": "code",
   "execution_count": 7,
   "id": "7165b7b0",
   "metadata": {},
   "outputs": [
    {
     "data": {
      "text/html": [
       "<div>\n",
       "<style scoped>\n",
       "    .dataframe tbody tr th:only-of-type {\n",
       "        vertical-align: middle;\n",
       "    }\n",
       "\n",
       "    .dataframe tbody tr th {\n",
       "        vertical-align: top;\n",
       "    }\n",
       "\n",
       "    .dataframe thead th {\n",
       "        text-align: right;\n",
       "    }\n",
       "</style>\n",
       "<table border=\"1\" class=\"dataframe\">\n",
       "  <thead>\n",
       "    <tr style=\"text-align: right;\">\n",
       "      <th></th>\n",
       "      <th>Brand</th>\n",
       "      <th>Model</th>\n",
       "      <th>Variant</th>\n",
       "      <th>Fuel</th>\n",
       "      <th>Driven_kilometers</th>\n",
       "      <th>Transmission</th>\n",
       "      <th>Number_of_owners</th>\n",
       "      <th>Price</th>\n",
       "    </tr>\n",
       "  </thead>\n",
       "  <tbody>\n",
       "    <tr>\n",
       "      <th>0</th>\n",
       "      <td>Renault Duster</td>\n",
       "      <td>2021</td>\n",
       "      <td>RXZ Turbo CVT</td>\n",
       "      <td>Petrol</td>\n",
       "      <td>13,248</td>\n",
       "      <td>Automatic</td>\n",
       "      <td>First Owner</td>\n",
       "      <td>12.83 Lakh</td>\n",
       "    </tr>\n",
       "    <tr>\n",
       "      <th>1</th>\n",
       "      <td>Honda Amaze</td>\n",
       "      <td>2015</td>\n",
       "      <td>S i-Vtech</td>\n",
       "      <td>Petrol</td>\n",
       "      <td>46,623</td>\n",
       "      <td>Manual</td>\n",
       "      <td>Second Owner</td>\n",
       "      <td>4.21 Lakh</td>\n",
       "    </tr>\n",
       "    <tr>\n",
       "      <th>2</th>\n",
       "      <td>Maruti Ciaz</td>\n",
       "      <td>2016</td>\n",
       "      <td>VXi Plus</td>\n",
       "      <td>Petrol</td>\n",
       "      <td>36,534</td>\n",
       "      <td>Manual</td>\n",
       "      <td>First Owner</td>\n",
       "      <td>6.12 Lakh</td>\n",
       "    </tr>\n",
       "    <tr>\n",
       "      <th>3</th>\n",
       "      <td>Jeep Compass</td>\n",
       "      <td>2017</td>\n",
       "      <td>2.0 Longitude Option BSIV</td>\n",
       "      <td>Diesel</td>\n",
       "      <td>86,226</td>\n",
       "      <td>Manual</td>\n",
       "      <td>First Owner</td>\n",
       "      <td>10.03 Lakh</td>\n",
       "    </tr>\n",
       "    <tr>\n",
       "      <th>4</th>\n",
       "      <td>Hyundai Verna</td>\n",
       "      <td>2017</td>\n",
       "      <td>1.6 VTVT AT SX</td>\n",
       "      <td>Petrol</td>\n",
       "      <td>60,238</td>\n",
       "      <td>Automatic</td>\n",
       "      <td>First Owner</td>\n",
       "      <td>8.65 Lakh</td>\n",
       "    </tr>\n",
       "    <tr>\n",
       "      <th>...</th>\n",
       "      <td>...</td>\n",
       "      <td>...</td>\n",
       "      <td>...</td>\n",
       "      <td>...</td>\n",
       "      <td>...</td>\n",
       "      <td>...</td>\n",
       "      <td>...</td>\n",
       "      <td>...</td>\n",
       "    </tr>\n",
       "    <tr>\n",
       "      <th>494</th>\n",
       "      <td>Nissan Terrano</td>\n",
       "      <td>2015</td>\n",
       "      <td>XL Plus 85 PS</td>\n",
       "      <td>Diesel</td>\n",
       "      <td>68,000</td>\n",
       "      <td>Manual</td>\n",
       "      <td>First Owner</td>\n",
       "      <td>5.50 Lakh</td>\n",
       "    </tr>\n",
       "    <tr>\n",
       "      <th>495</th>\n",
       "      <td>Honda Jazz</td>\n",
       "      <td>2015</td>\n",
       "      <td>1.2 VX i VTEC</td>\n",
       "      <td>Petrol</td>\n",
       "      <td>43,000</td>\n",
       "      <td>Manual</td>\n",
       "      <td>First Owner</td>\n",
       "      <td>5.40 Lakh</td>\n",
       "    </tr>\n",
       "    <tr>\n",
       "      <th>496</th>\n",
       "      <td>Volkswagen Jetta</td>\n",
       "      <td>2015</td>\n",
       "      <td>2.0L TDI Highline AT</td>\n",
       "      <td>Diesel</td>\n",
       "      <td>92,103</td>\n",
       "      <td>Automatic</td>\n",
       "      <td>Second Owner</td>\n",
       "      <td>7.77 Lakh</td>\n",
       "    </tr>\n",
       "    <tr>\n",
       "      <th>497</th>\n",
       "      <td>Volkswagen Polo</td>\n",
       "      <td>2013</td>\n",
       "      <td>Diesel Comfortline 1.2L</td>\n",
       "      <td>Diesel</td>\n",
       "      <td>2,20,010</td>\n",
       "      <td>Manual</td>\n",
       "      <td>First Owner</td>\n",
       "      <td>2.48 Lakh</td>\n",
       "    </tr>\n",
       "    <tr>\n",
       "      <th>498</th>\n",
       "      <td>Tata Tiago</td>\n",
       "      <td>2021</td>\n",
       "      <td>NRG XZ</td>\n",
       "      <td>Petrol</td>\n",
       "      <td>14,637</td>\n",
       "      <td>Manual</td>\n",
       "      <td>First Owner</td>\n",
       "      <td>6.41 Lakh</td>\n",
       "    </tr>\n",
       "  </tbody>\n",
       "</table>\n",
       "<p>499 rows × 8 columns</p>\n",
       "</div>"
      ],
      "text/plain": [
       "                Brand Model                    Variant    Fuel  \\\n",
       "0      Renault Duster  2021              RXZ Turbo CVT  Petrol   \n",
       "1         Honda Amaze  2015                  S i-Vtech  Petrol   \n",
       "2         Maruti Ciaz  2016                   VXi Plus  Petrol   \n",
       "3        Jeep Compass  2017  2.0 Longitude Option BSIV  Diesel   \n",
       "4       Hyundai Verna  2017             1.6 VTVT AT SX  Petrol   \n",
       "..                ...   ...                        ...     ...   \n",
       "494    Nissan Terrano  2015              XL Plus 85 PS  Diesel   \n",
       "495        Honda Jazz  2015              1.2 VX i VTEC  Petrol   \n",
       "496  Volkswagen Jetta  2015       2.0L TDI Highline AT  Diesel   \n",
       "497   Volkswagen Polo  2013    Diesel Comfortline 1.2L  Diesel   \n",
       "498        Tata Tiago  2021                     NRG XZ  Petrol   \n",
       "\n",
       "    Driven_kilometers Transmission Number_of_owners       Price  \n",
       "0              13,248    Automatic      First Owner  12.83 Lakh  \n",
       "1              46,623       Manual     Second Owner   4.21 Lakh  \n",
       "2              36,534       Manual      First Owner   6.12 Lakh  \n",
       "3              86,226       Manual      First Owner  10.03 Lakh  \n",
       "4              60,238    Automatic      First Owner   8.65 Lakh  \n",
       "..                ...          ...              ...         ...  \n",
       "494            68,000       Manual      First Owner   5.50 Lakh  \n",
       "495            43,000       Manual      First Owner   5.40 Lakh  \n",
       "496            92,103    Automatic     Second Owner   7.77 Lakh  \n",
       "497          2,20,010       Manual      First Owner   2.48 Lakh  \n",
       "498            14,637       Manual      First Owner   6.41 Lakh  \n",
       "\n",
       "[499 rows x 8 columns]"
      ]
     },
     "execution_count": 7,
     "metadata": {},
     "output_type": "execute_result"
    }
   ],
   "source": [
    "df_cardekho_cars = pd.DataFrame({'Brand':Brand, 'Model': model, 'Variant':variant,\n",
    "                           'Fuel':fuel, 'Driven_kilometers':driven_kilometers, \n",
    "                            'Transmission':transmission, 'Number_of_owners':number_of_owners,'Price':price})\n",
    "df_cardekho_cars"
   ]
  },
  {
   "cell_type": "code",
   "execution_count": 8,
   "id": "62a72608",
   "metadata": {},
   "outputs": [],
   "source": [
    "df_cardekho_cars.to_csv(\"cardekho_cars1000to1500.csv\")"
   ]
  },
  {
   "cell_type": "code",
   "execution_count": 9,
   "id": "202aa713",
   "metadata": {},
   "outputs": [],
   "source": [
    "driver1.quit()"
   ]
  },
  {
   "cell_type": "code",
   "execution_count": null,
   "id": "67e5028d",
   "metadata": {},
   "outputs": [],
   "source": []
  }
 ],
 "metadata": {
  "kernelspec": {
   "display_name": "Python 3 (ipykernel)",
   "language": "python",
   "name": "python3"
  },
  "language_info": {
   "codemirror_mode": {
    "name": "ipython",
    "version": 3
   },
   "file_extension": ".py",
   "mimetype": "text/x-python",
   "name": "python",
   "nbconvert_exporter": "python",
   "pygments_lexer": "ipython3",
   "version": "3.9.12"
  }
 },
 "nbformat": 4,
 "nbformat_minor": 5
}
